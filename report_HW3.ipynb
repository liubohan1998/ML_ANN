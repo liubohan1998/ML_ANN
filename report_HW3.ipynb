{
 "cells": [
  {
   "cell_type": "markdown",
   "metadata": {},
   "source": [
    "# Homework 3"
   ]
  },
  {
   "cell_type": "code",
   "execution_count": 1,
   "metadata": {},
   "outputs": [],
   "source": [
    "# Import any tools or libaries we need here.\n",
    "\n",
    "import pandas as pd\n",
    "import numpy as np\n",
    "\n",
    "# import matplotlib.pyplot as plt"
   ]
  },
  {
   "cell_type": "markdown",
   "metadata": {},
   "source": [
    " Firstly read the data 'churn.txt' and import as dataframe.\n",
    "<br>\n",
    "Have an overlook on the data: \n",
    "<br>\n",
    "&emsp;&emsp;3333 rows (observations). \n",
    "<br>\n",
    "&emsp;&emsp;21 columns (features)."
   ]
  },
  {
   "cell_type": "code",
   "execution_count": 2,
   "metadata": {},
   "outputs": [
    {
     "name": "stdout",
     "output_type": "stream",
     "text": [
      "Shape of 'churn.txt' data: (3333, 21)\n"
     ]
    },
    {
     "data": {
      "text/html": [
       "<div>\n",
       "<style scoped>\n",
       "    .dataframe tbody tr th:only-of-type {\n",
       "        vertical-align: middle;\n",
       "    }\n",
       "\n",
       "    .dataframe tbody tr th {\n",
       "        vertical-align: top;\n",
       "    }\n",
       "\n",
       "    .dataframe thead th {\n",
       "        text-align: right;\n",
       "    }\n",
       "</style>\n",
       "<table border=\"1\" class=\"dataframe\">\n",
       "  <thead>\n",
       "    <tr style=\"text-align: right;\">\n",
       "      <th></th>\n",
       "      <th>State</th>\n",
       "      <th>Account Length</th>\n",
       "      <th>Area Code</th>\n",
       "      <th>Phone</th>\n",
       "      <th>Int'l Plan</th>\n",
       "      <th>VMail Plan</th>\n",
       "      <th>VMail Message</th>\n",
       "      <th>Day Mins</th>\n",
       "      <th>Day Calls</th>\n",
       "      <th>Day Charge</th>\n",
       "      <th>...</th>\n",
       "      <th>Eve Calls</th>\n",
       "      <th>Eve Charge</th>\n",
       "      <th>Night Mins</th>\n",
       "      <th>Night Calls</th>\n",
       "      <th>Night Charge</th>\n",
       "      <th>Intl Mins</th>\n",
       "      <th>Intl Calls</th>\n",
       "      <th>Intl Charge</th>\n",
       "      <th>CustServ Calls</th>\n",
       "      <th>Churn?</th>\n",
       "    </tr>\n",
       "  </thead>\n",
       "  <tbody>\n",
       "    <tr>\n",
       "      <th>0</th>\n",
       "      <td>KS</td>\n",
       "      <td>128</td>\n",
       "      <td>415</td>\n",
       "      <td>382-4657</td>\n",
       "      <td>no</td>\n",
       "      <td>yes</td>\n",
       "      <td>25</td>\n",
       "      <td>265.1</td>\n",
       "      <td>110</td>\n",
       "      <td>45.07</td>\n",
       "      <td>...</td>\n",
       "      <td>99</td>\n",
       "      <td>16.78</td>\n",
       "      <td>244.7</td>\n",
       "      <td>91</td>\n",
       "      <td>11.01</td>\n",
       "      <td>10.0</td>\n",
       "      <td>3</td>\n",
       "      <td>2.70</td>\n",
       "      <td>1</td>\n",
       "      <td>False.</td>\n",
       "    </tr>\n",
       "    <tr>\n",
       "      <th>1</th>\n",
       "      <td>OH</td>\n",
       "      <td>107</td>\n",
       "      <td>415</td>\n",
       "      <td>371-7191</td>\n",
       "      <td>no</td>\n",
       "      <td>yes</td>\n",
       "      <td>26</td>\n",
       "      <td>161.6</td>\n",
       "      <td>123</td>\n",
       "      <td>27.47</td>\n",
       "      <td>...</td>\n",
       "      <td>103</td>\n",
       "      <td>16.62</td>\n",
       "      <td>254.4</td>\n",
       "      <td>103</td>\n",
       "      <td>11.45</td>\n",
       "      <td>13.7</td>\n",
       "      <td>3</td>\n",
       "      <td>3.70</td>\n",
       "      <td>1</td>\n",
       "      <td>False.</td>\n",
       "    </tr>\n",
       "    <tr>\n",
       "      <th>2</th>\n",
       "      <td>NJ</td>\n",
       "      <td>137</td>\n",
       "      <td>415</td>\n",
       "      <td>358-1921</td>\n",
       "      <td>no</td>\n",
       "      <td>no</td>\n",
       "      <td>0</td>\n",
       "      <td>243.4</td>\n",
       "      <td>114</td>\n",
       "      <td>41.38</td>\n",
       "      <td>...</td>\n",
       "      <td>110</td>\n",
       "      <td>10.30</td>\n",
       "      <td>162.6</td>\n",
       "      <td>104</td>\n",
       "      <td>7.32</td>\n",
       "      <td>12.2</td>\n",
       "      <td>5</td>\n",
       "      <td>3.29</td>\n",
       "      <td>0</td>\n",
       "      <td>False.</td>\n",
       "    </tr>\n",
       "    <tr>\n",
       "      <th>3</th>\n",
       "      <td>OH</td>\n",
       "      <td>84</td>\n",
       "      <td>408</td>\n",
       "      <td>375-9999</td>\n",
       "      <td>yes</td>\n",
       "      <td>no</td>\n",
       "      <td>0</td>\n",
       "      <td>299.4</td>\n",
       "      <td>71</td>\n",
       "      <td>50.90</td>\n",
       "      <td>...</td>\n",
       "      <td>88</td>\n",
       "      <td>5.26</td>\n",
       "      <td>196.9</td>\n",
       "      <td>89</td>\n",
       "      <td>8.86</td>\n",
       "      <td>6.6</td>\n",
       "      <td>7</td>\n",
       "      <td>1.78</td>\n",
       "      <td>2</td>\n",
       "      <td>False.</td>\n",
       "    </tr>\n",
       "    <tr>\n",
       "      <th>4</th>\n",
       "      <td>OK</td>\n",
       "      <td>75</td>\n",
       "      <td>415</td>\n",
       "      <td>330-6626</td>\n",
       "      <td>yes</td>\n",
       "      <td>no</td>\n",
       "      <td>0</td>\n",
       "      <td>166.7</td>\n",
       "      <td>113</td>\n",
       "      <td>28.34</td>\n",
       "      <td>...</td>\n",
       "      <td>122</td>\n",
       "      <td>12.61</td>\n",
       "      <td>186.9</td>\n",
       "      <td>121</td>\n",
       "      <td>8.41</td>\n",
       "      <td>10.1</td>\n",
       "      <td>3</td>\n",
       "      <td>2.73</td>\n",
       "      <td>3</td>\n",
       "      <td>False.</td>\n",
       "    </tr>\n",
       "  </tbody>\n",
       "</table>\n",
       "<p>5 rows × 21 columns</p>\n",
       "</div>"
      ],
      "text/plain": [
       "  State  Account Length  Area Code     Phone Int'l Plan VMail Plan  \\\n",
       "0    KS             128        415  382-4657         no        yes   \n",
       "1    OH             107        415  371-7191         no        yes   \n",
       "2    NJ             137        415  358-1921         no         no   \n",
       "3    OH              84        408  375-9999        yes         no   \n",
       "4    OK              75        415  330-6626        yes         no   \n",
       "\n",
       "   VMail Message  Day Mins  Day Calls  Day Charge  ...  Eve Calls  Eve Charge  \\\n",
       "0             25     265.1        110       45.07  ...         99       16.78   \n",
       "1             26     161.6        123       27.47  ...        103       16.62   \n",
       "2              0     243.4        114       41.38  ...        110       10.30   \n",
       "3              0     299.4         71       50.90  ...         88        5.26   \n",
       "4              0     166.7        113       28.34  ...        122       12.61   \n",
       "\n",
       "   Night Mins  Night Calls  Night Charge  Intl Mins  Intl Calls  Intl Charge  \\\n",
       "0       244.7           91         11.01       10.0           3         2.70   \n",
       "1       254.4          103         11.45       13.7           3         3.70   \n",
       "2       162.6          104          7.32       12.2           5         3.29   \n",
       "3       196.9           89          8.86        6.6           7         1.78   \n",
       "4       186.9          121          8.41       10.1           3         2.73   \n",
       "\n",
       "   CustServ Calls  Churn?  \n",
       "0               1  False.  \n",
       "1               1  False.  \n",
       "2               0  False.  \n",
       "3               2  False.  \n",
       "4               3  False.  \n",
       "\n",
       "[5 rows x 21 columns]"
      ]
     },
     "execution_count": 2,
     "metadata": {},
     "output_type": "execute_result"
    }
   ],
   "source": [
    "# Read and import the data file as usual.\n",
    "\n",
    "df = pd.read_csv('churn.txt')\n",
    "\n",
    "print(\"Shape of 'churn.txt' data:\", df.shape) # Have an overlook on the shape of the data.\n",
    "df.head()                                     # Have an overlook on the first few of rows."
   ]
  },
  {
   "cell_type": "markdown",
   "metadata": {},
   "source": [
    "#State: Categorical, for the 50 states and the District of Columbia\n",
    "<br>\n",
    "#Account Length: Integer-valued, how long account has been active\n",
    "<br>\n",
    "#Area code: Categorical\n",
    "<br>\n",
    "#Phone Number: Essentially a surrogate for customer ID\n",
    "<br>\n",
    "#International Plan: Dichotomous categorical, yes or no\n",
    "<br>\n",
    "#Voice Mail Plan: Dichotomous categorical, yes or no\n",
    "<br>\n",
    "#Number of Voice Mail Messages: Integer-valued\n",
    "<br>\n",
    "#Total Day Minutes: Continuous,minutes customer used service during the day\n",
    "<br>\n",
    "#Total Day Calls: Integer-valued\n",
    "<br>\n",
    "#Total Day Charge: Continuous, perhaps based on above two variables\n",
    "<br>\n",
    "#Total Eve Minutes: Continuous, minutes customer used service during the evening\n",
    "<br>\n",
    "#Total Eve Calls: Integer-valued\n",
    "<br>\n",
    "#Total Eve Charge: Continuous, perhaps based on above two variables\n",
    "<br>\n",
    "#Total Night Minutes: Continuous, minutes customer used service during the night\n",
    "<br>\n",
    "#Total Night Calls: Integer-valued\n",
    "<br>\n",
    "#Total Night Charge: Continuous, perhaps based on above two variables\n",
    "<br>\n",
    "#Total International Minutes: Continuous, minutes customer used service to make international calls\n",
    "<br>\n",
    "#Total International Calls: Integer-valued\n",
    "<br>\n",
    "#Total International Charge: Continuous, perhaps based on above two variables\n",
    "<br>\n",
    "#Number of Calls to Customer Service: Integer-valued\n",
    "<br>\n",
    "#Churn: Target. Indicator of whether the customer has left the company (True or False)"
   ]
  },
  {
   "cell_type": "markdown",
   "metadata": {},
   "source": [
    "## Problem 1\n",
    "## Part a & Part c"
   ]
  },
  {
   "cell_type": "markdown",
   "metadata": {},
   "source": [
    "Overall, my procedure of solving this problem is:\n",
    "<br>\n",
    "&emsp;&emsp;1. find outliers and then delete outliers from the whole dataset.\n",
    "<br>\n",
    "&emsp;&emsp;2. remove correlated features from the whole dataset according to Seaborn heatmap.\n",
    "<br>\n",
    "&emsp;&emsp;3. split the dataset into training set and testing set.\n",
    "<br>\n",
    "&emsp;&emsp;4. normalize the numeric data in training set\n",
    "<br>\n",
    "&emsp;&emsp;5. encode categorical data in both training and testing set."
   ]
  },
  {
   "cell_type": "markdown",
   "metadata": {},
   "source": [
    "### 1. Find outliers and then delete outliers from the whole dataset. "
   ]
  },
  {
   "cell_type": "markdown",
   "metadata": {},
   "source": [
    "The two outlier detection algorithms used uere are One Class SVF and Isolation Forest.\n",
    "<br>\n",
    "&emsp;&emsp;Totally, there are 3333 datapoints.\n",
    "<br>\n",
    "&emsp;&emsp;According to One-Class SVM, there are 166 datapoints outlied other agglomerate datapoints; other 3167 datapoints are relatively agminated. \n",
    "<br>\n",
    "&emsp;&emsp;According to the Isolation-Forest, there are 267 datapoints outlied other agglomerate datapoints; other 3066 datapoints are relatively agminated. "
   ]
  },
  {
   "cell_type": "markdown",
   "metadata": {},
   "source": [
    "Drop outliers using One-Class SVM algorithm."
   ]
  },
  {
   "cell_type": "code",
   "execution_count": 3,
   "metadata": {},
   "outputs": [
    {
     "name": "stdout",
     "output_type": "stream",
     "text": [
      "SVM:\n",
      "col_0  count\n",
      "row_0       \n",
      "-1       166\n",
      " 1      3167\n",
      "Isolation Forest:\n",
      "col_0  count\n",
      "row_0       \n",
      "-1       269\n",
      " 1      3064\n"
     ]
    }
   ],
   "source": [
    "from sklearn.svm import OneClassSVM\n",
    "from sklearn.ensemble import IsolationForest\n",
    "\n",
    "detector1 = OneClassSVM(nu=0.05) # nu is the percentage of data respect to outliers.\n",
    "detector2 = IsolationForest(n_jobs=-1) # n_job = -1 means the entire CPU used to speed up.\n",
    "\n",
    "predicted1 = detector1.fit_predict(df[['Account Length', 'VMail Message', \n",
    "                                       'Day Mins', 'Day Calls', 'Day Charge', \n",
    "                                       'Eve Mins', 'Eve Calls', 'Eve Charge', \n",
    "                                       'Night Mins', 'Night Calls', 'Night Charge', \n",
    "                                       'Intl Mins', 'Intl Calls', 'Intl Charge', \n",
    "                                       'CustServ Calls']])\n",
    "                  \n",
    "predicted2 = detector2.fit_predict(df[['Account Length', 'VMail Message', \n",
    "                                       'Day Mins', 'Day Calls', 'Day Charge', \n",
    "                                       'Eve Mins', 'Eve Calls', 'Eve Charge', \n",
    "                                       'Night Mins', 'Night Calls', 'Night Charge', \n",
    "                                       'Intl Mins', 'Intl Calls', 'Intl Charge', \n",
    "                                       'CustServ Calls']])\n",
    "\n",
    "print(\"SVM:\")\n",
    "print(pd.crosstab(predicted1, columns=['count']))\n",
    "print(\"Isolation Forest:\")\n",
    "print(pd.crosstab(predicted2, columns=['count']))"
   ]
  },
  {
   "cell_type": "code",
   "execution_count": 4,
   "metadata": {},
   "outputs": [
    {
     "name": "stdout",
     "output_type": "stream",
     "text": [
      "SVM vs IF\n",
      "Size of intersection: 93\n"
     ]
    }
   ],
   "source": [
    "svm_outcome = np.where(predicted1 == -1)\n",
    "if_outcome = np.where(predicted2 == -1)\n",
    "svm_if_intersection = np.intersect1d(svm_outcome, if_outcome)\n",
    "print(\"SVM vs IF\")\n",
    "print(f\"Size of intersection: {len(svm_if_intersection)}\")"
   ]
  },
  {
   "cell_type": "code",
   "execution_count": 5,
   "metadata": {
    "scrolled": false
   },
   "outputs": [
    {
     "name": "stdout",
     "output_type": "stream",
     "text": [
      "Size before dropping outlier(s): 3333\n",
      "Size after dropping outlier(s): 3167\n"
     ]
    }
   ],
   "source": [
    "#Dropping SVM outliers\n",
    "print(f\"Size before dropping outlier(s): {len(df)}\")\n",
    "df_clean = df.drop(svm_outcome[0])\n",
    "print(f\"Size after dropping outlier(s): {len(df_clean)}\")"
   ]
  },
  {
   "cell_type": "markdown",
   "metadata": {},
   "source": [
    "### 2. Remove correlated features from the whole dataset according to Seaborn heatmap. (Part c)"
   ]
  },
  {
   "cell_type": "markdown",
   "metadata": {},
   "source": [
    "According to the heat map, highy correlated features are:\n",
    "<br>\n",
    "&emsp;&emsp;'Day Charge' and 'Day Mins';\n",
    "<br>\n",
    "&emsp;&emsp;'Eve Charge' and 'Eve Mins';\n",
    "<br>\n",
    "&emsp;&emsp;'Night Charge' and 'Night Mins'\n",
    "<br>\n",
    "&emsp;&emsp;'Intl Charge' and 'Night Mins'\n",
    "<br>\n",
    "<br>\n",
    "Here I decide to ignore all 'Charge' features.\n",
    "So I did not include any 'Charge' features in training and testing set, but they are kept in dataframe df_clean."
   ]
  },
  {
   "cell_type": "code",
   "execution_count": 6,
   "metadata": {},
   "outputs": [
    {
     "data": {
      "image/png": "[encoded data removed]",
      "text/plain": [
       "<Figure size 432x288 with 2 Axes>"
      ]
     },
     "metadata": {
      "needs_background": "light"
     },
     "output_type": "display_data"
    }
   ],
   "source": [
    "import seaborn as sns\n",
    "g = sns.heatmap(df_clean.corr(),annot=False,  square=True)"
   ]
  },
  {
   "cell_type": "code",
   "execution_count": 7,
   "metadata": {},
   "outputs": [],
   "source": [
    "# Reset the datframe, ignore all 'Cahrge' features.\n",
    "df_clean = df_clean[['State', 'Account Length', 'Area Code', 'Phone', \n",
    "                     'Int\\'l Plan', 'VMail Plan', 'VMail Message', \n",
    "                     'Day Mins', 'Day Calls',\n",
    "                     'Eve Mins', 'Eve Calls',\n",
    "                     'Night Mins', 'Night Calls',\n",
    "                     'Intl Mins', 'Intl Calls',\n",
    "                     'CustServ Calls', \n",
    "                     'Churn?']]"
   ]
  },
  {
   "cell_type": "code",
   "execution_count": 8,
   "metadata": {},
   "outputs": [
    {
     "data": {
      "text/html": [
       "<div>\n",
       "<style scoped>\n",
       "    .dataframe tbody tr th:only-of-type {\n",
       "        vertical-align: middle;\n",
       "    }\n",
       "\n",
       "    .dataframe tbody tr th {\n",
       "        vertical-align: top;\n",
       "    }\n",
       "\n",
       "    .dataframe thead th {\n",
       "        text-align: right;\n",
       "    }\n",
       "</style>\n",
       "<table border=\"1\" class=\"dataframe\">\n",
       "  <thead>\n",
       "    <tr style=\"text-align: right;\">\n",
       "      <th></th>\n",
       "      <th>State</th>\n",
       "      <th>Account Length</th>\n",
       "      <th>Area Code</th>\n",
       "      <th>Phone</th>\n",
       "      <th>Int'l Plan</th>\n",
       "      <th>VMail Plan</th>\n",
       "      <th>VMail Message</th>\n",
       "      <th>Day Mins</th>\n",
       "      <th>Day Calls</th>\n",
       "      <th>Eve Mins</th>\n",
       "      <th>Eve Calls</th>\n",
       "      <th>Night Mins</th>\n",
       "      <th>Night Calls</th>\n",
       "      <th>Intl Mins</th>\n",
       "      <th>Intl Calls</th>\n",
       "      <th>CustServ Calls</th>\n",
       "      <th>Churn?</th>\n",
       "    </tr>\n",
       "  </thead>\n",
       "  <tbody>\n",
       "    <tr>\n",
       "      <th>0</th>\n",
       "      <td>KS</td>\n",
       "      <td>128</td>\n",
       "      <td>415</td>\n",
       "      <td>382-4657</td>\n",
       "      <td>no</td>\n",
       "      <td>yes</td>\n",
       "      <td>25</td>\n",
       "      <td>265.1</td>\n",
       "      <td>110</td>\n",
       "      <td>197.4</td>\n",
       "      <td>99</td>\n",
       "      <td>244.7</td>\n",
       "      <td>91</td>\n",
       "      <td>10.0</td>\n",
       "      <td>3</td>\n",
       "      <td>1</td>\n",
       "      <td>False.</td>\n",
       "    </tr>\n",
       "  </tbody>\n",
       "</table>\n",
       "</div>"
      ],
      "text/plain": [
       "  State  Account Length  Area Code     Phone Int'l Plan VMail Plan  \\\n",
       "0    KS             128        415  382-4657         no        yes   \n",
       "\n",
       "   VMail Message  Day Mins  Day Calls  Eve Mins  Eve Calls  Night Mins  \\\n",
       "0             25     265.1        110     197.4         99       244.7   \n",
       "\n",
       "   Night Calls  Intl Mins  Intl Calls  CustServ Calls  Churn?  \n",
       "0           91       10.0           3               1  False.  "
      ]
     },
     "execution_count": 8,
     "metadata": {},
     "output_type": "execute_result"
    }
   ],
   "source": [
    "# Have look at reseted features.\n",
    "df_clean.head(1)"
   ]
  },
  {
   "cell_type": "markdown",
   "metadata": {},
   "source": [
    "### 3. Split the dataset into training set and testing set. "
   ]
  },
  {
   "cell_type": "code",
   "execution_count": 9,
   "metadata": {},
   "outputs": [],
   "source": [
    "from sklearn.model_selection import train_test_split\n",
    "\n",
    "# Features (Independent Variables)\n",
    "X = df_clean[['State', 'Account Length', 'Area Code', 'Phone', \n",
    "              'Int\\'l Plan', 'VMail Plan', 'VMail Message', \n",
    "              'Day Mins', 'Day Calls',\n",
    "              'Eve Mins', 'Eve Calls',\n",
    "              'Night Mins', 'Night Calls',\n",
    "              'Intl Mins', 'Intl Calls',\n",
    "              'CustServ Calls']]\n",
    "\n",
    "# Dependent Variables\n",
    "Y = df_clean['Churn?']\n",
    "\n",
    "# Split the data into 70% train set and 30% test set.\n",
    "x_train,x_test,y_train,y_test = train_test_split(X, Y, test_size=0.3)"
   ]
  },
  {
   "cell_type": "markdown",
   "metadata": {},
   "source": [
    "### 4. Normalize the numeric data in training set ."
   ]
  },
  {
   "cell_type": "markdown",
   "metadata": {},
   "source": [
    "Normalize all numerical variables (15 numerical-type features).\n",
    "<br>\n",
    "Compress all the data to a number between 0 and 1 using Mini-Max Scaler."
   ]
  },
  {
   "cell_type": "markdown",
   "metadata": {},
   "source": [
    "There will be a warning pop-up, but it does not affect the output."
   ]
  },
  {
   "cell_type": "code",
   "execution_count": 10,
   "metadata": {},
   "outputs": [
    {
     "name": "stderr",
     "output_type": "stream",
     "text": [
      "/Users/liubohan/opt/anaconda3/lib/python3.8/site-packages/pandas/core/indexing.py:1736: SettingWithCopyWarning: \n",
      "A value is trying to be set on a copy of a slice from a DataFrame.\n",
      "Try using .loc[row_indexer,col_indexer] = value instead\n",
      "\n",
      "See the caveats in the documentation: https://pandas.pydata.org/pandas-docs/stable/user_guide/indexing.html#returning-a-view-versus-a-copy\n",
      "  isetter(loc, value[:, i].tolist())\n"
     ]
    }
   ],
   "source": [
    "from sklearn.preprocessing import MinMaxScaler\n",
    "\n",
    "# Extract all numerical data.\n",
    "# There are totally 15  numerical-type features.\n",
    "numeric_x_train = x_train[['Account Length', 'VMail Message', \n",
    "                           'Day Mins', 'Day Calls', \n",
    "                           'Eve Mins', 'Eve Calls', \n",
    "                           'Night Mins', 'Night Calls', \n",
    "                           'Intl Mins', 'Intl Calls',\n",
    "                           'CustServ Calls']]\n",
    "\n",
    "# Implement Min-Max Scaler:\n",
    "scaler = MinMaxScaler()\n",
    "scaled_values = scaler.fit_transform(numeric_x_train)\n",
    "numeric_x_train = scaled_values\n",
    "\n",
    "# Apply scaled (normalized) data to the original dataframe df.\n",
    "x_train.loc[: ,['Account Length', 'VMail Message', \n",
    "                'Day Mins', 'Day Calls', \n",
    "                'Eve Mins', 'Eve Calls', \n",
    "                'Night Mins', 'Night Calls',\n",
    "                'Intl Mins', 'Intl Calls',\n",
    "                'CustServ Calls']] = numeric_x_train"
   ]
  },
  {
   "cell_type": "code",
   "execution_count": 11,
   "metadata": {},
   "outputs": [
    {
     "data": {
      "text/html": [
       "<div>\n",
       "<style scoped>\n",
       "    .dataframe tbody tr th:only-of-type {\n",
       "        vertical-align: middle;\n",
       "    }\n",
       "\n",
       "    .dataframe tbody tr th {\n",
       "        vertical-align: top;\n",
       "    }\n",
       "\n",
       "    .dataframe thead th {\n",
       "        text-align: right;\n",
       "    }\n",
       "</style>\n",
       "<table border=\"1\" class=\"dataframe\">\n",
       "  <thead>\n",
       "    <tr style=\"text-align: right;\">\n",
       "      <th></th>\n",
       "      <th>Account Length</th>\n",
       "      <th>VMail Message</th>\n",
       "      <th>Day Mins</th>\n",
       "      <th>Day Calls</th>\n",
       "      <th>Eve Mins</th>\n",
       "      <th>Eve Calls</th>\n",
       "      <th>Night Mins</th>\n",
       "      <th>Night Calls</th>\n",
       "      <th>Intl Mins</th>\n",
       "      <th>Intl Calls</th>\n",
       "      <th>CustServ Calls</th>\n",
       "    </tr>\n",
       "  </thead>\n",
       "  <tbody>\n",
       "    <tr>\n",
       "      <th>836</th>\n",
       "      <td>0.357143</td>\n",
       "      <td>0.607843</td>\n",
       "      <td>0.607651</td>\n",
       "      <td>0.518519</td>\n",
       "      <td>0.575276</td>\n",
       "      <td>0.544872</td>\n",
       "      <td>0.388550</td>\n",
       "      <td>0.598540</td>\n",
       "      <td>0.527174</td>\n",
       "      <td>0.210526</td>\n",
       "      <td>0.000000</td>\n",
       "    </tr>\n",
       "    <tr>\n",
       "      <th>373</th>\n",
       "      <td>0.138393</td>\n",
       "      <td>0.000000</td>\n",
       "      <td>0.453284</td>\n",
       "      <td>0.503704</td>\n",
       "      <td>0.590470</td>\n",
       "      <td>0.538462</td>\n",
       "      <td>0.383808</td>\n",
       "      <td>0.510949</td>\n",
       "      <td>0.804348</td>\n",
       "      <td>0.105263</td>\n",
       "      <td>0.222222</td>\n",
       "    </tr>\n",
       "    <tr>\n",
       "      <th>596</th>\n",
       "      <td>0.549107</td>\n",
       "      <td>0.000000</td>\n",
       "      <td>0.428571</td>\n",
       "      <td>0.296296</td>\n",
       "      <td>0.247928</td>\n",
       "      <td>0.429487</td>\n",
       "      <td>0.472222</td>\n",
       "      <td>0.437956</td>\n",
       "      <td>0.521739</td>\n",
       "      <td>0.210526</td>\n",
       "      <td>0.333333</td>\n",
       "    </tr>\n",
       "    <tr>\n",
       "      <th>798</th>\n",
       "      <td>0.598214</td>\n",
       "      <td>0.431373</td>\n",
       "      <td>0.562627</td>\n",
       "      <td>0.614815</td>\n",
       "      <td>0.692334</td>\n",
       "      <td>0.532051</td>\n",
       "      <td>0.273374</td>\n",
       "      <td>0.708029</td>\n",
       "      <td>0.793478</td>\n",
       "      <td>0.263158</td>\n",
       "      <td>0.222222</td>\n",
       "    </tr>\n",
       "    <tr>\n",
       "      <th>968</th>\n",
       "      <td>0.540179</td>\n",
       "      <td>0.647059</td>\n",
       "      <td>0.487475</td>\n",
       "      <td>0.540741</td>\n",
       "      <td>0.653660</td>\n",
       "      <td>0.596154</td>\n",
       "      <td>0.374661</td>\n",
       "      <td>0.569343</td>\n",
       "      <td>0.733696</td>\n",
       "      <td>0.157895</td>\n",
       "      <td>0.111111</td>\n",
       "    </tr>\n",
       "  </tbody>\n",
       "</table>\n",
       "</div>"
      ],
      "text/plain": [
       "     Account Length  VMail Message  Day Mins  Day Calls  Eve Mins  Eve Calls  \\\n",
       "836        0.357143       0.607843  0.607651   0.518519  0.575276   0.544872   \n",
       "373        0.138393       0.000000  0.453284   0.503704  0.590470   0.538462   \n",
       "596        0.549107       0.000000  0.428571   0.296296  0.247928   0.429487   \n",
       "798        0.598214       0.431373  0.562627   0.614815  0.692334   0.532051   \n",
       "968        0.540179       0.647059  0.487475   0.540741  0.653660   0.596154   \n",
       "\n",
       "     Night Mins  Night Calls  Intl Mins  Intl Calls  CustServ Calls  \n",
       "836    0.388550     0.598540   0.527174    0.210526        0.000000  \n",
       "373    0.383808     0.510949   0.804348    0.105263        0.222222  \n",
       "596    0.472222     0.437956   0.521739    0.210526        0.333333  \n",
       "798    0.273374     0.708029   0.793478    0.263158        0.222222  \n",
       "968    0.374661     0.569343   0.733696    0.157895        0.111111  "
      ]
     },
     "execution_count": 11,
     "metadata": {},
     "output_type": "execute_result"
    }
   ],
   "source": [
    "# And have a look at the normalized data.\n",
    "x_train[['Account Length', 'VMail Message', \n",
    "         'Day Mins', 'Day Calls', \n",
    "         'Eve Mins', 'Eve Calls', \n",
    "         'Night Mins', 'Night Calls', \n",
    "         'Intl Mins', 'Intl Calls',\n",
    "         'CustServ Calls']].head()"
   ]
  },
  {
   "cell_type": "markdown",
   "metadata": {},
   "source": [
    "### 5. Encode categorical data in both training and testing set."
   ]
  },
  {
   "cell_type": "markdown",
   "metadata": {},
   "source": [
    "After normalizing numeric data, then encoding categorical data.\n",
    "<br>\n",
    "There are two kinds of categorical features in this dataset:\n",
    "<br>\n",
    "&emsp;&emsp;Nominal features, which is encoded by either One-Hot encoder or Label Encoder here.\n",
    "<br>\n",
    "&emsp;&emsp;Binary features, which is encoded by converting 't'/'f' string to int 0/1.\n",
    "<br>\n",
    "The reason that I do not use Ordinal Encoder is these are Nominal features without order or sequence."
   ]
  },
  {
   "cell_type": "markdown",
   "metadata": {},
   "source": [
    "Below is an example of using the One-Hot encoder to encode the 'State' feature. \n",
    "<br>\n",
    "There will be a warning pop-up, but it does not matter here, since the 'State' feature will be dropped later."
   ]
  },
  {
   "cell_type": "code",
   "execution_count": 12,
   "metadata": {},
   "outputs": [
    {
     "name": "stderr",
     "output_type": "stream",
     "text": [
      "/Users/liubohan/opt/anaconda3/lib/python3.8/site-packages/category_encoders/utils.py:21: FutureWarning: is_categorical is deprecated and will be removed in a future version.  Use is_categorical_dtype instead\n",
      "  elif pd.api.types.is_categorical(cols):\n"
     ]
    },
    {
     "data": {
      "text/html": [
       "<div>\n",
       "<style scoped>\n",
       "    .dataframe tbody tr th:only-of-type {\n",
       "        vertical-align: middle;\n",
       "    }\n",
       "\n",
       "    .dataframe tbody tr th {\n",
       "        vertical-align: top;\n",
       "    }\n",
       "\n",
       "    .dataframe thead th {\n",
       "        text-align: right;\n",
       "    }\n",
       "</style>\n",
       "<table border=\"1\" class=\"dataframe\">\n",
       "  <thead>\n",
       "    <tr style=\"text-align: right;\">\n",
       "      <th></th>\n",
       "      <th>State_1</th>\n",
       "      <th>State_2</th>\n",
       "      <th>State_3</th>\n",
       "      <th>State_4</th>\n",
       "      <th>State_5</th>\n",
       "      <th>State_6</th>\n",
       "      <th>State_7</th>\n",
       "      <th>State_8</th>\n",
       "      <th>State_9</th>\n",
       "      <th>State_10</th>\n",
       "      <th>...</th>\n",
       "      <th>State_42</th>\n",
       "      <th>State_43</th>\n",
       "      <th>State_44</th>\n",
       "      <th>State_45</th>\n",
       "      <th>State_46</th>\n",
       "      <th>State_47</th>\n",
       "      <th>State_48</th>\n",
       "      <th>State_49</th>\n",
       "      <th>State_50</th>\n",
       "      <th>State_51</th>\n",
       "    </tr>\n",
       "  </thead>\n",
       "  <tbody>\n",
       "    <tr>\n",
       "      <th>836</th>\n",
       "      <td>1</td>\n",
       "      <td>0</td>\n",
       "      <td>0</td>\n",
       "      <td>0</td>\n",
       "      <td>0</td>\n",
       "      <td>0</td>\n",
       "      <td>0</td>\n",
       "      <td>0</td>\n",
       "      <td>0</td>\n",
       "      <td>0</td>\n",
       "      <td>...</td>\n",
       "      <td>0</td>\n",
       "      <td>0</td>\n",
       "      <td>0</td>\n",
       "      <td>0</td>\n",
       "      <td>0</td>\n",
       "      <td>0</td>\n",
       "      <td>0</td>\n",
       "      <td>0</td>\n",
       "      <td>0</td>\n",
       "      <td>0</td>\n",
       "    </tr>\n",
       "    <tr>\n",
       "      <th>373</th>\n",
       "      <td>0</td>\n",
       "      <td>1</td>\n",
       "      <td>0</td>\n",
       "      <td>0</td>\n",
       "      <td>0</td>\n",
       "      <td>0</td>\n",
       "      <td>0</td>\n",
       "      <td>0</td>\n",
       "      <td>0</td>\n",
       "      <td>0</td>\n",
       "      <td>...</td>\n",
       "      <td>0</td>\n",
       "      <td>0</td>\n",
       "      <td>0</td>\n",
       "      <td>0</td>\n",
       "      <td>0</td>\n",
       "      <td>0</td>\n",
       "      <td>0</td>\n",
       "      <td>0</td>\n",
       "      <td>0</td>\n",
       "      <td>0</td>\n",
       "    </tr>\n",
       "    <tr>\n",
       "      <th>596</th>\n",
       "      <td>0</td>\n",
       "      <td>0</td>\n",
       "      <td>1</td>\n",
       "      <td>0</td>\n",
       "      <td>0</td>\n",
       "      <td>0</td>\n",
       "      <td>0</td>\n",
       "      <td>0</td>\n",
       "      <td>0</td>\n",
       "      <td>0</td>\n",
       "      <td>...</td>\n",
       "      <td>0</td>\n",
       "      <td>0</td>\n",
       "      <td>0</td>\n",
       "      <td>0</td>\n",
       "      <td>0</td>\n",
       "      <td>0</td>\n",
       "      <td>0</td>\n",
       "      <td>0</td>\n",
       "      <td>0</td>\n",
       "      <td>0</td>\n",
       "    </tr>\n",
       "    <tr>\n",
       "      <th>798</th>\n",
       "      <td>0</td>\n",
       "      <td>0</td>\n",
       "      <td>0</td>\n",
       "      <td>1</td>\n",
       "      <td>0</td>\n",
       "      <td>0</td>\n",
       "      <td>0</td>\n",
       "      <td>0</td>\n",
       "      <td>0</td>\n",
       "      <td>0</td>\n",
       "      <td>...</td>\n",
       "      <td>0</td>\n",
       "      <td>0</td>\n",
       "      <td>0</td>\n",
       "      <td>0</td>\n",
       "      <td>0</td>\n",
       "      <td>0</td>\n",
       "      <td>0</td>\n",
       "      <td>0</td>\n",
       "      <td>0</td>\n",
       "      <td>0</td>\n",
       "    </tr>\n",
       "    <tr>\n",
       "      <th>968</th>\n",
       "      <td>0</td>\n",
       "      <td>0</td>\n",
       "      <td>0</td>\n",
       "      <td>0</td>\n",
       "      <td>1</td>\n",
       "      <td>0</td>\n",
       "      <td>0</td>\n",
       "      <td>0</td>\n",
       "      <td>0</td>\n",
       "      <td>0</td>\n",
       "      <td>...</td>\n",
       "      <td>0</td>\n",
       "      <td>0</td>\n",
       "      <td>0</td>\n",
       "      <td>0</td>\n",
       "      <td>0</td>\n",
       "      <td>0</td>\n",
       "      <td>0</td>\n",
       "      <td>0</td>\n",
       "      <td>0</td>\n",
       "      <td>0</td>\n",
       "    </tr>\n",
       "  </tbody>\n",
       "</table>\n",
       "<p>5 rows × 51 columns</p>\n",
       "</div>"
      ],
      "text/plain": [
       "     State_1  State_2  State_3  State_4  State_5  State_6  State_7  State_8  \\\n",
       "836        1        0        0        0        0        0        0        0   \n",
       "373        0        1        0        0        0        0        0        0   \n",
       "596        0        0        1        0        0        0        0        0   \n",
       "798        0        0        0        1        0        0        0        0   \n",
       "968        0        0        0        0        1        0        0        0   \n",
       "\n",
       "     State_9  State_10  ...  State_42  State_43  State_44  State_45  State_46  \\\n",
       "836        0         0  ...         0         0         0         0         0   \n",
       "373        0         0  ...         0         0         0         0         0   \n",
       "596        0         0  ...         0         0         0         0         0   \n",
       "798        0         0  ...         0         0         0         0         0   \n",
       "968        0         0  ...         0         0         0         0         0   \n",
       "\n",
       "     State_47  State_48  State_49  State_50  State_51  \n",
       "836         0         0         0         0         0  \n",
       "373         0         0         0         0         0  \n",
       "596         0         0         0         0         0  \n",
       "798         0         0         0         0         0  \n",
       "968         0         0         0         0         0  \n",
       "\n",
       "[5 rows x 51 columns]"
      ]
     },
     "execution_count": 12,
     "metadata": {},
     "output_type": "execute_result"
    }
   ],
   "source": [
    "import category_encoders as ce\n",
    "\n",
    "X = x_train['State']\n",
    "\n",
    "ce_one_hot = ce.OneHotEncoder(cols=['State'])\n",
    "ce_one_hot.fit_transform(X).head()"
   ]
  },
  {
   "cell_type": "markdown",
   "metadata": {},
   "source": [
    "Below is an example of using the Label Encoder to encode the 'Area Code' feature. \n",
    "<br>\n",
    "I have to say it is better to use the One-Hot encoder here. \n",
    "<br>\n",
    "Label Encoder is better used when dealing with ordinal data. \n",
    "<br>\n",
    "&emsp;&emsp;(If we dealing with area code with sequential order, then Label Encoder could be a better choice.)\n",
    "<br>\n",
    "Anyway, this is just an example of using Label Encoder, the 'Area Code' feature will also be dropped later."
   ]
  },
  {
   "cell_type": "code",
   "execution_count": 13,
   "metadata": {},
   "outputs": [],
   "source": [
    "from sklearn.preprocessing import LabelEncoder\n",
    "\n",
    "X = x_train['Area Code']\n",
    "\n",
    "# Dealing with Nominal features.\n",
    "# Using Label Encoder converting the same strings to a same integer.\n",
    "le = LabelEncoder()\n",
    "le.fit(X)\n",
    "label = le.transform(X)\n",
    "X = label"
   ]
  },
  {
   "cell_type": "code",
   "execution_count": 14,
   "metadata": {},
   "outputs": [
    {
     "data": {
      "text/html": [
       "<div>\n",
       "<style scoped>\n",
       "    .dataframe tbody tr th:only-of-type {\n",
       "        vertical-align: middle;\n",
       "    }\n",
       "\n",
       "    .dataframe tbody tr th {\n",
       "        vertical-align: top;\n",
       "    }\n",
       "\n",
       "    .dataframe thead th {\n",
       "        text-align: right;\n",
       "    }\n",
       "</style>\n",
       "<table border=\"1\" class=\"dataframe\">\n",
       "  <thead>\n",
       "    <tr style=\"text-align: right;\">\n",
       "      <th></th>\n",
       "      <th>Area Code</th>\n",
       "    </tr>\n",
       "  </thead>\n",
       "  <tbody>\n",
       "    <tr>\n",
       "      <th>0</th>\n",
       "      <td>1</td>\n",
       "    </tr>\n",
       "    <tr>\n",
       "      <th>1</th>\n",
       "      <td>1</td>\n",
       "    </tr>\n",
       "    <tr>\n",
       "      <th>2</th>\n",
       "      <td>2</td>\n",
       "    </tr>\n",
       "  </tbody>\n",
       "</table>\n",
       "</div>"
      ],
      "text/plain": [
       "   Area Code\n",
       "0          1\n",
       "1          1\n",
       "2          2"
      ]
     },
     "execution_count": 14,
     "metadata": {},
     "output_type": "execute_result"
    }
   ],
   "source": [
    "# Have a look at the encoded 'Area Code' feature.\n",
    "X_df = pd.DataFrame(X, columns=['Area Code'])\n",
    "X_df.head(3)"
   ]
  },
  {
   "cell_type": "markdown",
   "metadata": {},
   "source": [
    "The rest of the dataset are all Ture/False data, binary type of data. \n",
    "<br>\n",
    "('Phone' feature is ignored. Although it can be processed by One-Hot, it will generate a large table with no repetition, and it is useless for this homework.)\n",
    "<br>\n",
    "Below is the procedure of converting True/False to 1/0.\n",
    "<br>\n",
    "There will be a lot of pop-up warnings since there is something wrong with using .loc and .iloc. Since it does not affect the result, so I just ignored them. "
   ]
  },
  {
   "cell_type": "code",
   "execution_count": 15,
   "metadata": {},
   "outputs": [
    {
     "name": "stderr",
     "output_type": "stream",
     "text": [
      "/Users/liubohan/opt/anaconda3/lib/python3.8/site-packages/pandas/core/indexing.py:670: SettingWithCopyWarning: \n",
      "A value is trying to be set on a copy of a slice from a DataFrame\n",
      "\n",
      "See the caveats in the documentation: https://pandas.pydata.org/pandas-docs/stable/user_guide/indexing.html#returning-a-view-versus-a-copy\n",
      "  iloc._setitem_with_indexer(indexer, value)\n"
     ]
    }
   ],
   "source": [
    "# Dealing with Binary features.\n",
    "# For each Binary feature:\n",
    "#     if its value is 'True' or 'yes', convert the value to int 1.\n",
    "#     if its value is 'False' or 'no', convert the value to int 0.\n",
    "\n",
    "# Process Binary features in train set.\n",
    "for i in x_train[['Int\\'l Plan', 'VMail Plan']]:\n",
    "    for j in range(len(x_train)):\n",
    "        if x_train[i].iloc[j] == 'True.' or x_train[i].iloc[j] == 'yes':\n",
    "            x_train[i].iloc[j] = 1\n",
    "        elif x_train[i].iloc[j] == 'False.' or x_train[i].iloc[j] == 'no':\n",
    "            x_train[i].iloc[j] = 0\n",
    "\n",
    "# Also process Binary features in test set.\n",
    "# Since the program does not recognize string'True/False' and 'yes/no'.\n",
    "for i in x_test[['Int\\'l Plan', 'VMail Plan']]:\n",
    "    for j in range(len(x_test)):\n",
    "        if x_test[i].iloc[j] == 'True.' or x_test[i].iloc[j] == 'yes':\n",
    "            x_test[i].iloc[j] = 1\n",
    "        elif x_test[i].iloc[j] == 'False.' or x_test[i].iloc[j] == 'no':\n",
    "            x_test[i].iloc[j] = 0\n",
    "\n",
    "# Do the same Binary procedure for Dependent Variable y (Train set).\n",
    "for i in range(len(y_train)):\n",
    "    if y_train.iloc[i] == 'True.' or y_train.iloc[i] == 'yes':\n",
    "        y_train.iloc[i] = 1\n",
    "    elif y_train.iloc[i] == 'False.' or y_train.iloc[i] == 'no':\n",
    "        y_train.iloc[i] = 0    \n",
    "# Do the same Binary procedure for Dependent Variable y (Test set).\n",
    "for i in range(len(y_test)):\n",
    "    if y_test.iloc[i] == 'True.' or y_test.iloc[i] == 'yes':\n",
    "        y_test.iloc[i] = 1\n",
    "    elif y_test.iloc[i] == 'False.' or y_test.iloc[i] == 'no':\n",
    "        y_test.iloc[i] = 0"
   ]
  },
  {
   "cell_type": "code",
   "execution_count": 16,
   "metadata": {},
   "outputs": [
    {
     "data": {
      "text/html": [
       "<div>\n",
       "<style scoped>\n",
       "    .dataframe tbody tr th:only-of-type {\n",
       "        vertical-align: middle;\n",
       "    }\n",
       "\n",
       "    .dataframe tbody tr th {\n",
       "        vertical-align: top;\n",
       "    }\n",
       "\n",
       "    .dataframe thead th {\n",
       "        text-align: right;\n",
       "    }\n",
       "</style>\n",
       "<table border=\"1\" class=\"dataframe\">\n",
       "  <thead>\n",
       "    <tr style=\"text-align: right;\">\n",
       "      <th></th>\n",
       "      <th>Int'l Plan</th>\n",
       "      <th>VMail Plan</th>\n",
       "    </tr>\n",
       "  </thead>\n",
       "  <tbody>\n",
       "    <tr>\n",
       "      <th>836</th>\n",
       "      <td>0</td>\n",
       "      <td>1</td>\n",
       "    </tr>\n",
       "    <tr>\n",
       "      <th>373</th>\n",
       "      <td>0</td>\n",
       "      <td>0</td>\n",
       "    </tr>\n",
       "  </tbody>\n",
       "</table>\n",
       "</div>"
      ],
      "text/plain": [
       "    Int'l Plan VMail Plan\n",
       "836          0          1\n",
       "373          0          0"
      ]
     },
     "execution_count": 16,
     "metadata": {},
     "output_type": "execute_result"
    }
   ],
   "source": [
    "# Have a look at the encoded data.\n",
    "x_train[['Int\\'l Plan', 'VMail Plan']].head(2)"
   ]
  },
  {
   "cell_type": "code",
   "execution_count": 17,
   "metadata": {},
   "outputs": [
    {
     "data": {
      "text/html": [
       "<div>\n",
       "<style scoped>\n",
       "    .dataframe tbody tr th:only-of-type {\n",
       "        vertical-align: middle;\n",
       "    }\n",
       "\n",
       "    .dataframe tbody tr th {\n",
       "        vertical-align: top;\n",
       "    }\n",
       "\n",
       "    .dataframe thead th {\n",
       "        text-align: right;\n",
       "    }\n",
       "</style>\n",
       "<table border=\"1\" class=\"dataframe\">\n",
       "  <thead>\n",
       "    <tr style=\"text-align: right;\">\n",
       "      <th></th>\n",
       "      <th>Int'l Plan</th>\n",
       "      <th>VMail Plan</th>\n",
       "    </tr>\n",
       "  </thead>\n",
       "  <tbody>\n",
       "    <tr>\n",
       "      <th>3278</th>\n",
       "      <td>0</td>\n",
       "      <td>0</td>\n",
       "    </tr>\n",
       "    <tr>\n",
       "      <th>2429</th>\n",
       "      <td>0</td>\n",
       "      <td>1</td>\n",
       "    </tr>\n",
       "  </tbody>\n",
       "</table>\n",
       "</div>"
      ],
      "text/plain": [
       "     Int'l Plan VMail Plan\n",
       "3278          0          0\n",
       "2429          0          1"
      ]
     },
     "execution_count": 17,
     "metadata": {},
     "output_type": "execute_result"
    }
   ],
   "source": [
    "# Have a look at the encoded data.\n",
    "x_test[['Int\\'l Plan', 'VMail Plan']].head(2)"
   ]
  },
  {
   "cell_type": "code",
   "execution_count": 18,
   "metadata": {},
   "outputs": [
    {
     "data": {
      "text/plain": [
       "836    0\n",
       "373    0\n",
       "Name: Churn?, dtype: object"
      ]
     },
     "execution_count": 18,
     "metadata": {},
     "output_type": "execute_result"
    }
   ],
   "source": [
    "# Have a look at the encoded data.\n",
    "y_train.head(2)"
   ]
  },
  {
   "cell_type": "code",
   "execution_count": 19,
   "metadata": {},
   "outputs": [
    {
     "data": {
      "text/plain": [
       "3278    0\n",
       "2429    0\n",
       "Name: Churn?, dtype: object"
      ]
     },
     "execution_count": 19,
     "metadata": {},
     "output_type": "execute_result"
    }
   ],
   "source": [
    "# Have a look at the encoded data.\n",
    "y_test.head(2)"
   ]
  },
  {
   "cell_type": "markdown",
   "metadata": {},
   "source": [
    "## Problem 1\n",
    "## Part b"
   ]
  },
  {
   "cell_type": "markdown",
   "metadata": {},
   "source": [
    "To identify the outliers of the dataset, One-Class SVM and Isolation-Forest techniques are implemented on the dataset's numerical-type features. The results of both One-Class SVM and Isolation-Forest show that there are outliers on the dataset. "
   ]
  },
  {
   "cell_type": "markdown",
   "metadata": {},
   "source": [
    "However, these two techniques do not agree with the number of outliers. According to One-Class SVM, there are 166 datapoints outlied other agglomerate datapoints; other 3167 datapoints are relatively agminated. \n",
    "<br>\n",
    "According to the Isolation-Forest, there are 267 datapoints outlied other agglomerate datapoints; other 3066 datapoints are relatively agminated. \n",
    "<br>\n",
    "Totally, there are 3333 datapoints."
   ]
  },
  {
   "cell_type": "markdown",
   "metadata": {},
   "source": [
    "The reason causes this difference I think is that these two techniques have different rules identifying outliers. For example, when we call the function OneClassSVM(nu=0.05), the parameter 'nu' defines what percentage of the whole dataset is aimed to be identified as outliers; on the other hand, When we call IsolationForest(n_jobs=-1), the parameter n_jobs asks for how much computational power are allowed to identify outliers. \n",
    "<br>\n",
    "Apparently, there are differences between these two techniques' rules when identifying outliers."
   ]
  },
  {
   "cell_type": "markdown",
   "metadata": {},
   "source": [
    "## Problem 2\n",
    "## Part a"
   ]
  },
  {
   "cell_type": "markdown",
   "metadata": {},
   "source": [
    "Clear up the portion of the dataset I gonna put into the neural network:\n",
    "<br>\n",
    "'Account Length', 'VMail Message', 'Day Mins', 'Day Calls', 'Eve Mins', 'Eve Calls', 'Night Mins', 'Night Calls', 'Intl Mins', 'Intl Calls', 'CustServ Calls'"
   ]
  },
  {
   "cell_type": "code",
   "execution_count": 20,
   "metadata": {},
   "outputs": [],
   "source": [
    "x_train = x_train[['Account Length',\n",
    "                   'VMail Message', \n",
    "                   'Day Mins', 'Day Calls', \n",
    "                   'Eve Mins', 'Eve Calls', \n",
    "                   'Night Mins', 'Night Calls', \n",
    "                   'Intl Mins', 'Intl Calls',\n",
    "                   'CustServ Calls']]\n",
    "\n",
    "x_test = x_test[['Account Length',\n",
    "                 'VMail Message', \n",
    "                 'Day Mins', 'Day Calls', \n",
    "                 'Eve Mins', 'Eve Calls', \n",
    "                 'Night Mins', 'Night Calls', \n",
    "                 'Intl Mins', 'Intl Calls',\n",
    "                 'CustServ Calls']]"
   ]
  },
  {
   "cell_type": "code",
   "execution_count": 21,
   "metadata": {},
   "outputs": [
    {
     "name": "stdout",
     "output_type": "stream",
     "text": [
      "<class 'pandas.core.frame.DataFrame'>\n",
      "Int64Index: 2216 entries, 836 to 1992\n",
      "Data columns (total 11 columns):\n",
      " #   Column          Non-Null Count  Dtype  \n",
      "---  ------          --------------  -----  \n",
      " 0   Account Length  2216 non-null   float64\n",
      " 1   VMail Message   2216 non-null   float64\n",
      " 2   Day Mins        2216 non-null   float64\n",
      " 3   Day Calls       2216 non-null   float64\n",
      " 4   Eve Mins        2216 non-null   float64\n",
      " 5   Eve Calls       2216 non-null   float64\n",
      " 6   Night Mins      2216 non-null   float64\n",
      " 7   Night Calls     2216 non-null   float64\n",
      " 8   Intl Mins       2216 non-null   float64\n",
      " 9   Intl Calls      2216 non-null   float64\n",
      " 10  CustServ Calls  2216 non-null   float64\n",
      "dtypes: float64(11)\n",
      "memory usage: 207.8 KB\n"
     ]
    }
   ],
   "source": [
    "x_train.info()"
   ]
  },
  {
   "cell_type": "code",
   "execution_count": 22,
   "metadata": {},
   "outputs": [
    {
     "name": "stdout",
     "output_type": "stream",
     "text": [
      "<class 'pandas.core.frame.DataFrame'>\n",
      "Int64Index: 951 entries, 3278 to 3245\n",
      "Data columns (total 11 columns):\n",
      " #   Column          Non-Null Count  Dtype  \n",
      "---  ------          --------------  -----  \n",
      " 0   Account Length  951 non-null    int64  \n",
      " 1   VMail Message   951 non-null    int64  \n",
      " 2   Day Mins        951 non-null    float64\n",
      " 3   Day Calls       951 non-null    int64  \n",
      " 4   Eve Mins        951 non-null    float64\n",
      " 5   Eve Calls       951 non-null    int64  \n",
      " 6   Night Mins      951 non-null    float64\n",
      " 7   Night Calls     951 non-null    int64  \n",
      " 8   Intl Mins       951 non-null    float64\n",
      " 9   Intl Calls      951 non-null    int64  \n",
      " 10  CustServ Calls  951 non-null    int64  \n",
      "dtypes: float64(4), int64(7)\n",
      "memory usage: 89.2 KB\n"
     ]
    }
   ],
   "source": [
    "x_test.info()"
   ]
  },
  {
   "cell_type": "markdown",
   "metadata": {},
   "source": [
    "Using tensorflow.keras to form a Sequential ANN.\n",
    "<br>\n",
    "There are four layers in this ANN: input layer + 2 hidden layers + output layer.\n",
    "<br>\n",
    "The input layer is automatically created, and three more layers are added by model.add().\n",
    "<br>\n",
    "&emsp;&emsp;For the input layers, there should be 11 nodes, since there are 11 input features.\n",
    "<br>\n",
    "&emsp;&emsp;For the two hidden layers, there are 4 nodes in each layer decided by the programmer. Too many nodes will increase the training time.\n",
    "<br>\n",
    "&emsp;&emsp;For the output layer, there is only 1 node, since there is only one feature 'Churn?' to output.\n",
    "<br>\n",
    "All layers using sigmoid function (1/(1+e^(-x))) as activation function."
   ]
  },
  {
   "cell_type": "code",
   "execution_count": 23,
   "metadata": {},
   "outputs": [],
   "source": [
    "import tensorflow as tf\n",
    "from tensorflow import keras\n",
    "from tensorflow.keras import layers\n",
    "\n",
    "model = keras.Sequential()\n",
    "model.add(layers.Dense(4, input_dim=x_train.shape[1], activation='sigmoid'))\n",
    "model.add(layers.Dense(4,  activation='sigmoid'))\n",
    "model.add(layers.Dense(1,  activation='sigmoid'))"
   ]
  },
  {
   "cell_type": "code",
   "execution_count": 24,
   "metadata": {},
   "outputs": [],
   "source": [
    "model.compile(loss='mse', optimizer='adam', \n",
    "              metrics=['accuracy', \n",
    "                       keras.metrics.Precision(name=\"precision\", thresholds=0.5),\n",
    "                       keras.metrics.Recall(name=\"recall\", thresholds=0.5)\n",
    "                      ]\n",
    "             )"
   ]
  },
  {
   "cell_type": "code",
   "execution_count": 25,
   "metadata": {},
   "outputs": [],
   "source": [
    "class FitCallback(keras.callbacks.Callback):\n",
    "    def on_train_batch_end(self, batch, logs=None):\n",
    "        weights.append(self.model.layers[1].get_weights())\n",
    "        \n",
    "weights = []"
   ]
  },
  {
   "cell_type": "code",
   "execution_count": 26,
   "metadata": {
    "scrolled": true
   },
   "outputs": [
    {
     "data": {
      "text/plain": [
       "<AxesSubplot:>"
      ]
     },
     "execution_count": 26,
     "metadata": {},
     "output_type": "execute_result"
    },
    {
     "data": {
      "image/png": "[encoded data removed]",
      "text/plain": [
       "<Figure size 432x288 with 1 Axes>"
      ]
     },
     "metadata": {
      "needs_background": "light"
     },
     "output_type": "display_data"
    }
   ],
   "source": [
    "x_array = np.asarray(x_train)\n",
    "y_array = np.asarray(y_train).astype('float64')\n",
    "\n",
    "result = model.fit(x_array, y_array, epochs=200, batch_size=32, verbose=0, callbacks=[FitCallback()])\n",
    "\n",
    "pd.DataFrame([x[-1] for x in weights]).plot()"
   ]
  },
  {
   "cell_type": "markdown",
   "metadata": {},
   "source": [
    "Below reports loss, accuracy, precision and recall score for the test set"
   ]
  },
  {
   "cell_type": "code",
   "execution_count": 27,
   "metadata": {},
   "outputs": [
    {
     "name": "stdout",
     "output_type": "stream",
     "text": [
      "30/30 [==============================] - 0s 865us/step - loss: 0.3077 - accuracy: 0.1420 - precision: 0.1420 - recall: 1.0000\n",
      " \n",
      "Loss: 0.30767950415611267\n",
      "Accuracy: 0.14195583760738373\n",
      "Precision: 0.14195583760738373\n",
      "Recall: 1.0\n"
     ]
    }
   ],
   "source": [
    "x_array = np.asarray(x_test)\n",
    "y_array = np.asarray(y_test).astype('float64')\n",
    "\n",
    "score = model.evaluate(x_array, y_array)\n",
    "\n",
    "print(\" \")\n",
    "print(\"Loss:\", score[0])\n",
    "print(\"Accuracy:\", score[1])\n",
    "print(\"Precision:\", score[2])\n",
    "print(\"Recall:\", score[3])"
   ]
  },
  {
   "cell_type": "markdown",
   "metadata": {},
   "source": [
    "### Training and Testing Error Plot"
   ]
  },
  {
   "cell_type": "markdown",
   "metadata": {},
   "source": [
    "## Problem 3"
   ]
  },
  {
   "cell_type": "code",
   "execution_count": 28,
   "metadata": {},
   "outputs": [],
   "source": [
    "import tensorflow as tf\n",
    "from tensorflow import keras\n",
    "from tensorflow.keras import layers\n",
    "\n",
    "model = keras.Sequential()\n",
    "model.add(layers.Dense(4, input_dim=x_train.shape[1], activation='sigmoid'))\n",
    "model.add(layers.Dense(4,  activation='sigmoid'))\n",
    "model.add(layers.Dense(1,  activation='sigmoid'))"
   ]
  },
  {
   "cell_type": "code",
   "execution_count": 29,
   "metadata": {},
   "outputs": [
    {
     "name": "stderr",
     "output_type": "stream",
     "text": [
      "/Users/liubohan/opt/anaconda3/lib/python3.8/site-packages/pandas/core/indexing.py:670: SettingWithCopyWarning: \n",
      "A value is trying to be set on a copy of a slice from a DataFrame\n",
      "\n",
      "See the caveats in the documentation: https://pandas.pydata.org/pandas-docs/stable/user_guide/indexing.html#returning-a-view-versus-a-copy\n",
      "  iloc._setitem_with_indexer(indexer, value)\n"
     ]
    }
   ],
   "source": [
    "X = df_clean[['Account Length',\n",
    "              'VMail Message', \n",
    "              'Day Mins', 'Day Calls', \n",
    "              'Eve Mins', 'Eve Calls', \n",
    "              'Night Mins', 'Night Calls', \n",
    "              'Intl Mins', 'Intl Calls',\n",
    "              'CustServ Calls']]\n",
    "\n",
    "scaler = MinMaxScaler()\n",
    "scaled_values = scaler.fit_transform(X)\n",
    "X = scaled_values\n",
    "\n",
    "\n",
    "Y = df_clean['Churn?']\n",
    "\n",
    "for i in range(len(Y)):\n",
    "    if Y.iloc[i] == 'True.' or Y.iloc[i] == 'yes':\n",
    "        Y.iloc[i] = 1\n",
    "    elif Y.iloc[i] == 'False.' or Y.iloc[i] == 'no':\n",
    "        Y.iloc[i] = 0"
   ]
  },
  {
   "cell_type": "code",
   "execution_count": 30,
   "metadata": {},
   "outputs": [],
   "source": [
    "model.compile(loss='mse', optimizer='adam', \n",
    "              metrics=['accuracy', \n",
    "                       keras.metrics.Precision(name=\"precision\", thresholds=0.5),\n",
    "                       keras.metrics.Recall(name=\"recall\", thresholds=0.5)])"
   ]
  },
  {
   "cell_type": "code",
   "execution_count": 31,
   "metadata": {},
   "outputs": [],
   "source": [
    "class FitCallback(keras.callbacks.Callback):\n",
    "    def on_train_batch_end(self, batch, logs=None):\n",
    "        weights.append(self.model.layers[1].get_weights())"
   ]
  },
  {
   "cell_type": "code",
   "execution_count": 32,
   "metadata": {},
   "outputs": [],
   "source": [
    "weights = []"
   ]
  },
  {
   "cell_type": "code",
   "execution_count": 33,
   "metadata": {},
   "outputs": [
    {
     "data": {
      "text/plain": [
       "<AxesSubplot:>"
      ]
     },
     "execution_count": 33,
     "metadata": {},
     "output_type": "execute_result"
    },
    {
     "data": {
      "image/png": "[encoded data removed]",
      "text/plain": [
       "<Figure size 432x288 with 1 Axes>"
      ]
     },
     "metadata": {
      "needs_background": "light"
     },
     "output_type": "display_data"
    }
   ],
   "source": [
    "x_array = np.asarray(X)\n",
    "y_array = np.asarray(Y).astype('float64')\n",
    "\n",
    "result = model.fit(x_array, y_array, epochs=150, batch_size=64, verbose=0, callbacks=[FitCallback()])\n",
    "\n",
    "pd.DataFrame([x[-1] for x in weights]).plot()"
   ]
  },
  {
   "cell_type": "code",
   "execution_count": 34,
   "metadata": {},
   "outputs": [
    {
     "name": "stdout",
     "output_type": "stream",
     "text": [
      "99/99 [==============================] - 0s 716us/step - loss: 0.1061 - accuracy: 0.8626 - precision: 0.0000e+00 - recall: 0.0000e+00\n"
     ]
    },
    {
     "data": {
      "text/plain": [
       "[0.10610271990299225, 0.8626460433006287, 0.0, 0.0]"
      ]
     },
     "execution_count": 34,
     "metadata": {},
     "output_type": "execute_result"
    }
   ],
   "source": [
    "model.evaluate(x_array, y_array)"
   ]
  },
  {
   "cell_type": "code",
   "execution_count": null,
   "metadata": {},
   "outputs": [],
   "source": []
  }
 ],
 "metadata": {
  "kernelspec": {
   "display_name": "Python 3",
   "language": "python",
   "name": "python3"
  },
  "language_info": {
   "codemirror_mode": {
    "name": "ipython",
    "version": 3
   },
   "file_extension": ".py",
   "mimetype": "text/x-python",
   "name": "python",
   "nbconvert_exporter": "python",
   "pygments_lexer": "ipython3",
   "version": "3.8.5"
  }
 },
 "nbformat": 4,
 "nbformat_minor": 4
}
