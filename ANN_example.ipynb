{
 "cells": [
  {
   "cell_type": "markdown",
   "metadata": {},
   "source": [
    "# Artificial Neural Network (ANN) example"
   ]
  },
  {
   "cell_type": "markdown",
   "metadata": {},
   "source": [
    "---"
   ]
  },
  {
   "cell_type": "markdown",
   "metadata": {},
   "source": [
    "“Churn” dataset that is available in the UCIMachine Learning Repository:\n",
    "<br>\n",
    "https://canvas.ucdavis.edu/courses/553693/files/12846113?wrap=1\n",
    "<br>\n",
    "> **Introduction of variables:**\n",
    "<br>\n",
    "#State: Categorical, for the 50 states and the District of Columbia\n",
    "<br>\n",
    "#Account Length: Integer-valued, how long account has been active\n",
    "<br>\n",
    "#Area code: Categorical\n",
    "<br>\n",
    "#Phone Number: Essentially a surrogate for customer ID\n",
    "<br>\n",
    "#International Plan: Dichotomous categorical, yes or no\n",
    "<br>\n",
    "#Voice Mail Plan: Dichotomous categorical, yes or no\n",
    "<br>\n",
    "#Number of Voice Mail Messages: Integer-valued\n",
    "<br>\n",
    "#Total Day Minutes: Continuous,minutes customer used service during the day\n",
    "<br>\n",
    "#Total Day Calls: Integer-valued\n",
    "<br>\n",
    "#Total Day Charge: Continuous, perhaps based on above two variables\n",
    "<br>\n",
    "#Total Eve Minutes: Continuous, minutes customer used service during the evening\n",
    "<br>\n",
    "#Total Eve Calls: Integer-valued\n",
    "<br>\n",
    "#Total Eve Charge: Continuous, perhaps based on above two variables\n",
    "<br>\n",
    "#Total Night Minutes: Continuous, minutes customer used service during the night\n",
    "<br>\n",
    "#Total Night Calls: Integer-valued\n",
    "<br>\n",
    "#Total Night Charge: Continuous, perhaps based on above two variables\n",
    "<br>\n",
    "#Total International Minutes: Continuous, minutes customer used service to make international calls\n",
    "<br>\n",
    "#Total International Calls: Integer-valued\n",
    "<br>\n",
    "#Total International Charge: Continuous, perhaps based on above two variables\n",
    "<br>\n",
    "#Number of Calls to Customer Service: Integer-valued\n",
    "<br>\n",
    "#Churn: Target. Indicator of whether the customer has left the company (True or False)"
   ]
  },
  {
   "cell_type": "markdown",
   "metadata": {},
   "source": [
    "---"
   ]
  },
  {
   "cell_type": "markdown",
   "metadata": {},
   "source": [
    "### Import the dataset\n",
    "**Note:** Try edit the import directory if you cannot import the dataset."
   ]
  },
  {
   "cell_type": "code",
   "execution_count": 1,
   "metadata": {
    "scrolled": true
   },
   "outputs": [
    {
     "name": "stdout",
     "output_type": "stream",
     "text": [
      "Shape of 'churn.txt' data: (3333, 21)\n"
     ]
    },
    {
     "data": {
      "text/html": [
       "<div>\n",
       "<style scoped>\n",
       "    .dataframe tbody tr th:only-of-type {\n",
       "        vertical-align: middle;\n",
       "    }\n",
       "\n",
       "    .dataframe tbody tr th {\n",
       "        vertical-align: top;\n",
       "    }\n",
       "\n",
       "    .dataframe thead th {\n",
       "        text-align: right;\n",
       "    }\n",
       "</style>\n",
       "<table border=\"1\" class=\"dataframe\">\n",
       "  <thead>\n",
       "    <tr style=\"text-align: right;\">\n",
       "      <th></th>\n",
       "      <th>State</th>\n",
       "      <th>Account Length</th>\n",
       "      <th>Area Code</th>\n",
       "      <th>Phone</th>\n",
       "      <th>Int'l Plan</th>\n",
       "      <th>VMail Plan</th>\n",
       "      <th>VMail Message</th>\n",
       "      <th>Day Mins</th>\n",
       "      <th>Day Calls</th>\n",
       "      <th>Day Charge</th>\n",
       "      <th>...</th>\n",
       "      <th>Eve Calls</th>\n",
       "      <th>Eve Charge</th>\n",
       "      <th>Night Mins</th>\n",
       "      <th>Night Calls</th>\n",
       "      <th>Night Charge</th>\n",
       "      <th>Intl Mins</th>\n",
       "      <th>Intl Calls</th>\n",
       "      <th>Intl Charge</th>\n",
       "      <th>CustServ Calls</th>\n",
       "      <th>Churn?</th>\n",
       "    </tr>\n",
       "  </thead>\n",
       "  <tbody>\n",
       "    <tr>\n",
       "      <th>0</th>\n",
       "      <td>KS</td>\n",
       "      <td>128</td>\n",
       "      <td>415</td>\n",
       "      <td>382-4657</td>\n",
       "      <td>no</td>\n",
       "      <td>yes</td>\n",
       "      <td>25</td>\n",
       "      <td>265.1</td>\n",
       "      <td>110</td>\n",
       "      <td>45.07</td>\n",
       "      <td>...</td>\n",
       "      <td>99</td>\n",
       "      <td>16.78</td>\n",
       "      <td>244.7</td>\n",
       "      <td>91</td>\n",
       "      <td>11.01</td>\n",
       "      <td>10.0</td>\n",
       "      <td>3</td>\n",
       "      <td>2.70</td>\n",
       "      <td>1</td>\n",
       "      <td>False.</td>\n",
       "    </tr>\n",
       "    <tr>\n",
       "      <th>1</th>\n",
       "      <td>OH</td>\n",
       "      <td>107</td>\n",
       "      <td>415</td>\n",
       "      <td>371-7191</td>\n",
       "      <td>no</td>\n",
       "      <td>yes</td>\n",
       "      <td>26</td>\n",
       "      <td>161.6</td>\n",
       "      <td>123</td>\n",
       "      <td>27.47</td>\n",
       "      <td>...</td>\n",
       "      <td>103</td>\n",
       "      <td>16.62</td>\n",
       "      <td>254.4</td>\n",
       "      <td>103</td>\n",
       "      <td>11.45</td>\n",
       "      <td>13.7</td>\n",
       "      <td>3</td>\n",
       "      <td>3.70</td>\n",
       "      <td>1</td>\n",
       "      <td>False.</td>\n",
       "    </tr>\n",
       "    <tr>\n",
       "      <th>2</th>\n",
       "      <td>NJ</td>\n",
       "      <td>137</td>\n",
       "      <td>415</td>\n",
       "      <td>358-1921</td>\n",
       "      <td>no</td>\n",
       "      <td>no</td>\n",
       "      <td>0</td>\n",
       "      <td>243.4</td>\n",
       "      <td>114</td>\n",
       "      <td>41.38</td>\n",
       "      <td>...</td>\n",
       "      <td>110</td>\n",
       "      <td>10.30</td>\n",
       "      <td>162.6</td>\n",
       "      <td>104</td>\n",
       "      <td>7.32</td>\n",
       "      <td>12.2</td>\n",
       "      <td>5</td>\n",
       "      <td>3.29</td>\n",
       "      <td>0</td>\n",
       "      <td>False.</td>\n",
       "    </tr>\n",
       "  </tbody>\n",
       "</table>\n",
       "<p>3 rows × 21 columns</p>\n",
       "</div>"
      ],
      "text/plain": [
       "  State  Account Length  Area Code     Phone Int'l Plan VMail Plan  \\\n",
       "0    KS             128        415  382-4657         no        yes   \n",
       "1    OH             107        415  371-7191         no        yes   \n",
       "2    NJ             137        415  358-1921         no         no   \n",
       "\n",
       "   VMail Message  Day Mins  Day Calls  Day Charge  ...  Eve Calls  Eve Charge  \\\n",
       "0             25     265.1        110       45.07  ...         99       16.78   \n",
       "1             26     161.6        123       27.47  ...        103       16.62   \n",
       "2              0     243.4        114       41.38  ...        110       10.30   \n",
       "\n",
       "   Night Mins  Night Calls  Night Charge  Intl Mins  Intl Calls  Intl Charge  \\\n",
       "0       244.7           91         11.01       10.0           3         2.70   \n",
       "1       254.4          103         11.45       13.7           3         3.70   \n",
       "2       162.6          104          7.32       12.2           5         3.29   \n",
       "\n",
       "   CustServ Calls  Churn?  \n",
       "0               1  False.  \n",
       "1               1  False.  \n",
       "2               0  False.  \n",
       "\n",
       "[3 rows x 21 columns]"
      ]
     },
     "execution_count": 1,
     "metadata": {},
     "output_type": "execute_result"
    }
   ],
   "source": [
    "import pandas as pd\n",
    "import numpy as np\n",
    "\n",
    "df = pd.read_csv('churn.txt')\n",
    "\n",
    "print(\"Shape of 'churn.txt' data:\", df.shape) # Have an overlook on the shape of the data.\n",
    "df.head(3)                                     # Have an overlook on the first few of rows."
   ]
  },
  {
   "cell_type": "markdown",
   "metadata": {},
   "source": [
    "---"
   ]
  },
  {
   "cell_type": "markdown",
   "metadata": {},
   "source": [
    "### Pre-process the dataset\n",
    "#### Procedure:\n",
    "<br>\n",
    "&emsp;&emsp;1. find outliers and delete outliers from the dataset.\n",
    "<br>\n",
    "&emsp;&emsp;2. remove correlated features from the whole dataset according to Seaborn heatmap.\n",
    "<br>\n",
    "&emsp;&emsp;3. split the dataset into training set and testing set.\n",
    "<br>\n",
    "&emsp;&emsp;4. normalize the numeric data in training set\n",
    "<br>\n",
    "&emsp;&emsp;5. encode categorical data in both training and testing set."
   ]
  },
  {
   "cell_type": "markdown",
   "metadata": {},
   "source": [
    "#### 1. Find outliers and then delete outliers from the whole dataset. \n",
    "The two outlier detection algorithms used here are One-Class SVM and Isolation Forest.\n",
    "<br>\n",
    "&emsp;&emsp;According to One-Class SVM, there are 166 datapoints outlied other agglomerate datapoints; other 3167 datapoints are relatively agminated. \n",
    "<br>\n",
    "&emsp;&emsp;According to the Isolation-Forest, there are 267 datapoints outlied other agglomerate datapoints; other 3066 datapoints are relatively agminated. \n",
    "<br>\n",
    "<br>\n",
    "After comparison, One-Class SVM is used for dropping outliers."
   ]
  },
  {
   "cell_type": "code",
   "execution_count": 2,
   "metadata": {},
   "outputs": [
    {
     "name": "stdout",
     "output_type": "stream",
     "text": [
      "SVM:\n",
      "col_0  count\n",
      "row_0       \n",
      "-1       166\n",
      " 1      3167\n",
      "Isolation Forest:\n",
      "col_0  count\n",
      "row_0       \n",
      "-1       285\n",
      " 1      3048\n"
     ]
    }
   ],
   "source": [
    "from sklearn.svm import OneClassSVM\n",
    "from sklearn.ensemble import IsolationForest\n",
    "\n",
    "detector1 = OneClassSVM(nu=0.05) # nu is the percentage of data respect to outliers.\n",
    "detector2 = IsolationForest(n_jobs=-1) # n_job = -1 means the entire CPU used to speed up.\n",
    "\n",
    "predicted1 = detector1.fit_predict(df[['Account Length', 'VMail Message', \n",
    "                                       'Day Mins', 'Day Calls', 'Day Charge', \n",
    "                                       'Eve Mins', 'Eve Calls', 'Eve Charge', \n",
    "                                       'Night Mins', 'Night Calls', 'Night Charge', \n",
    "                                       'Intl Mins', 'Intl Calls', 'Intl Charge', \n",
    "                                       'CustServ Calls']])\n",
    "                  \n",
    "predicted2 = detector2.fit_predict(df[['Account Length', 'VMail Message', \n",
    "                                       'Day Mins', 'Day Calls', 'Day Charge', \n",
    "                                       'Eve Mins', 'Eve Calls', 'Eve Charge', \n",
    "                                       'Night Mins', 'Night Calls', 'Night Charge', \n",
    "                                       'Intl Mins', 'Intl Calls', 'Intl Charge', \n",
    "                                       'CustServ Calls']])\n",
    "\n",
    "print(\"SVM:\")\n",
    "print(pd.crosstab(predicted1, columns=['count']))\n",
    "print(\"Isolation Forest:\")\n",
    "print(pd.crosstab(predicted2, columns=['count']))"
   ]
  },
  {
   "cell_type": "code",
   "execution_count": 3,
   "metadata": {},
   "outputs": [
    {
     "name": "stdout",
     "output_type": "stream",
     "text": [
      "SVM vs IF\n",
      "Size of intersection: 97\n"
     ]
    }
   ],
   "source": [
    "svm_outcome = np.where(predicted1 == -1)\n",
    "if_outcome = np.where(predicted2 == -1)\n",
    "svm_if_intersection = np.intersect1d(svm_outcome, if_outcome)\n",
    "print(\"SVM vs IF\")\n",
    "print(f\"Size of intersection: {len(svm_if_intersection)}\")"
   ]
  },
  {
   "cell_type": "code",
   "execution_count": 4,
   "metadata": {
    "scrolled": false
   },
   "outputs": [
    {
     "name": "stdout",
     "output_type": "stream",
     "text": [
      "Size before dropping outlier(s): 3333\n",
      "Size after dropping outlier(s): 3167\n"
     ]
    }
   ],
   "source": [
    "#Dropping SVM outliers\n",
    "print(f\"Size before dropping outlier(s): {len(df)}\")\n",
    "df_clean = df.drop(svm_outcome[0])\n",
    "print(f\"Size after dropping outlier(s): {len(df_clean)}\")"
   ]
  },
  {
   "cell_type": "markdown",
   "metadata": {},
   "source": [
    "#### 2. Remove correlated features from the whole dataset according to Seaborn heatmap. \n",
    "According to the heat map, highy correlated features are:\n",
    "<br>\n",
    "&emsp;&emsp;'Day Charge' and 'Day Mins';\n",
    "<br>\n",
    "&emsp;&emsp;'Eve Charge' and 'Eve Mins';\n",
    "<br>\n",
    "&emsp;&emsp;'Night Charge' and 'Night Mins'\n",
    "<br>\n",
    "&emsp;&emsp;'Intl Charge' and 'Night Mins'\n",
    "<br>\n",
    "<br>\n",
    "Here I decide to ignore all 'Charge' features. So I did not include any 'Charge' features in training and testing set, but they are kept in dataframe df_clean."
   ]
  },
  {
   "cell_type": "code",
   "execution_count": 5,
   "metadata": {},
   "outputs": [
    {
     "data": {
      "image/png": "[encoded data removed]",
      "text/plain": [
       "<Figure size 432x288 with 2 Axes>"
      ]
     },
     "metadata": {
      "needs_background": "light"
     },
     "output_type": "display_data"
    }
   ],
   "source": [
    "import seaborn as sns\n",
    "g = sns.heatmap(df_clean.corr(),annot=False,  square=True)"
   ]
  },
  {
   "cell_type": "code",
   "execution_count": 6,
   "metadata": {},
   "outputs": [],
   "source": [
    "# Reset the datframe, ignore all 'Cahrge' features.\n",
    "df_clean = df_clean[['State', 'Account Length', 'Area Code', 'Phone', \n",
    "                     'Int\\'l Plan', 'VMail Plan', 'VMail Message', \n",
    "                     'Day Mins', 'Day Calls',\n",
    "                     'Eve Mins', 'Eve Calls',\n",
    "                     'Night Mins', 'Night Calls',\n",
    "                     'Intl Mins', 'Intl Calls',\n",
    "                     'CustServ Calls', \n",
    "                     'Churn?']]"
   ]
  },
  {
   "cell_type": "code",
   "execution_count": 7,
   "metadata": {},
   "outputs": [
    {
     "data": {
      "text/html": [
       "<div>\n",
       "<style scoped>\n",
       "    .dataframe tbody tr th:only-of-type {\n",
       "        vertical-align: middle;\n",
       "    }\n",
       "\n",
       "    .dataframe tbody tr th {\n",
       "        vertical-align: top;\n",
       "    }\n",
       "\n",
       "    .dataframe thead th {\n",
       "        text-align: right;\n",
       "    }\n",
       "</style>\n",
       "<table border=\"1\" class=\"dataframe\">\n",
       "  <thead>\n",
       "    <tr style=\"text-align: right;\">\n",
       "      <th></th>\n",
       "      <th>State</th>\n",
       "      <th>Account Length</th>\n",
       "      <th>Area Code</th>\n",
       "      <th>Phone</th>\n",
       "      <th>Int'l Plan</th>\n",
       "      <th>VMail Plan</th>\n",
       "      <th>VMail Message</th>\n",
       "      <th>Day Mins</th>\n",
       "      <th>Day Calls</th>\n",
       "      <th>Eve Mins</th>\n",
       "      <th>Eve Calls</th>\n",
       "      <th>Night Mins</th>\n",
       "      <th>Night Calls</th>\n",
       "      <th>Intl Mins</th>\n",
       "      <th>Intl Calls</th>\n",
       "      <th>CustServ Calls</th>\n",
       "      <th>Churn?</th>\n",
       "    </tr>\n",
       "  </thead>\n",
       "  <tbody>\n",
       "    <tr>\n",
       "      <th>0</th>\n",
       "      <td>KS</td>\n",
       "      <td>128</td>\n",
       "      <td>415</td>\n",
       "      <td>382-4657</td>\n",
       "      <td>no</td>\n",
       "      <td>yes</td>\n",
       "      <td>25</td>\n",
       "      <td>265.1</td>\n",
       "      <td>110</td>\n",
       "      <td>197.4</td>\n",
       "      <td>99</td>\n",
       "      <td>244.7</td>\n",
       "      <td>91</td>\n",
       "      <td>10.0</td>\n",
       "      <td>3</td>\n",
       "      <td>1</td>\n",
       "      <td>False.</td>\n",
       "    </tr>\n",
       "  </tbody>\n",
       "</table>\n",
       "</div>"
      ],
      "text/plain": [
       "  State  Account Length  Area Code     Phone Int'l Plan VMail Plan  \\\n",
       "0    KS             128        415  382-4657         no        yes   \n",
       "\n",
       "   VMail Message  Day Mins  Day Calls  Eve Mins  Eve Calls  Night Mins  \\\n",
       "0             25     265.1        110     197.4         99       244.7   \n",
       "\n",
       "   Night Calls  Intl Mins  Intl Calls  CustServ Calls  Churn?  \n",
       "0           91       10.0           3               1  False.  "
      ]
     },
     "execution_count": 7,
     "metadata": {},
     "output_type": "execute_result"
    }
   ],
   "source": [
    "# Have look at reseted features.\n",
    "df_clean.head(1)"
   ]
  },
  {
   "cell_type": "markdown",
   "metadata": {},
   "source": [
    "#### 3. Split the dataset into training set and testing set. \n",
    "Dependent variable is 'Churn?', and all other useful features are independent variables."
   ]
  },
  {
   "cell_type": "code",
   "execution_count": 8,
   "metadata": {},
   "outputs": [],
   "source": [
    "from sklearn.model_selection import train_test_split\n",
    "\n",
    "# Features (Independent Variables)\n",
    "X = df_clean[['State', 'Account Length', 'Area Code', 'Phone', \n",
    "              'Int\\'l Plan', 'VMail Plan', 'VMail Message', \n",
    "              'Day Mins', 'Day Calls',\n",
    "              'Eve Mins', 'Eve Calls',\n",
    "              'Night Mins', 'Night Calls',\n",
    "              'Intl Mins', 'Intl Calls',\n",
    "              'CustServ Calls']]\n",
    "\n",
    "# Dependent Variables\n",
    "Y = df_clean['Churn?']\n",
    "\n",
    "# Split the data into 70% train set and 30% test set.\n",
    "x_train,x_test,y_train,y_test = train_test_split(X, Y, test_size=0.3)"
   ]
  },
  {
   "cell_type": "markdown",
   "metadata": {},
   "source": [
    "#### 4. Normalize the numeric data in training set .\n",
    "Normalize all numerical variables (15 numerical-type features).\n",
    "<br>\n",
    "Compress all the data to numbers between 0 and 1 by using Mini-Max Scaler.\n",
    "<br>\n",
    "**Note:** There will be a warning pop-up, but it does not affect the output."
   ]
  },
  {
   "cell_type": "code",
   "execution_count": 9,
   "metadata": {},
   "outputs": [
    {
     "name": "stderr",
     "output_type": "stream",
     "text": [
      "/Users/liubohan/opt/anaconda3/lib/python3.8/site-packages/pandas/core/indexing.py:1736: SettingWithCopyWarning: \n",
      "A value is trying to be set on a copy of a slice from a DataFrame.\n",
      "Try using .loc[row_indexer,col_indexer] = value instead\n",
      "\n",
      "See the caveats in the documentation: https://pandas.pydata.org/pandas-docs/stable/user_guide/indexing.html#returning-a-view-versus-a-copy\n",
      "  isetter(loc, value[:, i].tolist())\n"
     ]
    }
   ],
   "source": [
    "from sklearn.preprocessing import MinMaxScaler\n",
    "\n",
    "# Extract all numerical data.\n",
    "# There are totally 15  numerical-type features.\n",
    "numeric_x_train = x_train[['Account Length', 'VMail Message', \n",
    "                           'Day Mins', 'Day Calls', \n",
    "                           'Eve Mins', 'Eve Calls', \n",
    "                           'Night Mins', 'Night Calls', \n",
    "                           'Intl Mins', 'Intl Calls',\n",
    "                           'CustServ Calls']]\n",
    "\n",
    "# Implement Min-Max Scaler:\n",
    "scaler = MinMaxScaler()\n",
    "scaled_values = scaler.fit_transform(numeric_x_train)\n",
    "numeric_x_train = scaled_values\n",
    "\n",
    "# Apply scaled (normalized) data to the original dataframe df.\n",
    "x_train.loc[: ,['Account Length', 'VMail Message', \n",
    "                'Day Mins', 'Day Calls', \n",
    "                'Eve Mins', 'Eve Calls', \n",
    "                'Night Mins', 'Night Calls',\n",
    "                'Intl Mins', 'Intl Calls',\n",
    "                'CustServ Calls']] = numeric_x_train"
   ]
  },
  {
   "cell_type": "code",
   "execution_count": 10,
   "metadata": {},
   "outputs": [
    {
     "data": {
      "text/html": [
       "<div>\n",
       "<style scoped>\n",
       "    .dataframe tbody tr th:only-of-type {\n",
       "        vertical-align: middle;\n",
       "    }\n",
       "\n",
       "    .dataframe tbody tr th {\n",
       "        vertical-align: top;\n",
       "    }\n",
       "\n",
       "    .dataframe thead th {\n",
       "        text-align: right;\n",
       "    }\n",
       "</style>\n",
       "<table border=\"1\" class=\"dataframe\">\n",
       "  <thead>\n",
       "    <tr style=\"text-align: right;\">\n",
       "      <th></th>\n",
       "      <th>Account Length</th>\n",
       "      <th>VMail Message</th>\n",
       "      <th>Day Mins</th>\n",
       "      <th>Day Calls</th>\n",
       "      <th>Eve Mins</th>\n",
       "      <th>Eve Calls</th>\n",
       "      <th>Night Mins</th>\n",
       "      <th>Night Calls</th>\n",
       "      <th>Intl Mins</th>\n",
       "      <th>Intl Calls</th>\n",
       "      <th>CustServ Calls</th>\n",
       "    </tr>\n",
       "  </thead>\n",
       "  <tbody>\n",
       "    <tr>\n",
       "      <th>1464</th>\n",
       "      <td>0.303571</td>\n",
       "      <td>0.000000</td>\n",
       "      <td>0.516249</td>\n",
       "      <td>0.407407</td>\n",
       "      <td>0.610922</td>\n",
       "      <td>0.564103</td>\n",
       "      <td>0.583501</td>\n",
       "      <td>0.491935</td>\n",
       "      <td>0.450</td>\n",
       "      <td>0.25</td>\n",
       "      <td>0.333333</td>\n",
       "    </tr>\n",
       "    <tr>\n",
       "      <th>277</th>\n",
       "      <td>0.638393</td>\n",
       "      <td>0.941176</td>\n",
       "      <td>0.537915</td>\n",
       "      <td>0.488889</td>\n",
       "      <td>0.221160</td>\n",
       "      <td>0.352564</td>\n",
       "      <td>0.537223</td>\n",
       "      <td>0.588710</td>\n",
       "      <td>0.325</td>\n",
       "      <td>0.10</td>\n",
       "      <td>0.222222</td>\n",
       "    </tr>\n",
       "    <tr>\n",
       "      <th>1180</th>\n",
       "      <td>0.316964</td>\n",
       "      <td>0.000000</td>\n",
       "      <td>0.598849</td>\n",
       "      <td>0.459259</td>\n",
       "      <td>0.467918</td>\n",
       "      <td>0.628205</td>\n",
       "      <td>0.438632</td>\n",
       "      <td>0.733871</td>\n",
       "      <td>0.655</td>\n",
       "      <td>0.20</td>\n",
       "      <td>0.000000</td>\n",
       "    </tr>\n",
       "    <tr>\n",
       "      <th>308</th>\n",
       "      <td>0.495536</td>\n",
       "      <td>0.000000</td>\n",
       "      <td>0.553487</td>\n",
       "      <td>0.525926</td>\n",
       "      <td>0.449488</td>\n",
       "      <td>0.448718</td>\n",
       "      <td>0.433937</td>\n",
       "      <td>0.596774</td>\n",
       "      <td>0.570</td>\n",
       "      <td>0.10</td>\n",
       "      <td>0.000000</td>\n",
       "    </tr>\n",
       "    <tr>\n",
       "      <th>1067</th>\n",
       "      <td>0.522321</td>\n",
       "      <td>0.000000</td>\n",
       "      <td>0.529790</td>\n",
       "      <td>0.496296</td>\n",
       "      <td>0.406826</td>\n",
       "      <td>0.493590</td>\n",
       "      <td>0.601610</td>\n",
       "      <td>0.516129</td>\n",
       "      <td>0.610</td>\n",
       "      <td>0.30</td>\n",
       "      <td>0.111111</td>\n",
       "    </tr>\n",
       "  </tbody>\n",
       "</table>\n",
       "</div>"
      ],
      "text/plain": [
       "      Account Length  VMail Message  Day Mins  Day Calls  Eve Mins  Eve Calls  \\\n",
       "1464        0.303571       0.000000  0.516249   0.407407  0.610922   0.564103   \n",
       "277         0.638393       0.941176  0.537915   0.488889  0.221160   0.352564   \n",
       "1180        0.316964       0.000000  0.598849   0.459259  0.467918   0.628205   \n",
       "308         0.495536       0.000000  0.553487   0.525926  0.449488   0.448718   \n",
       "1067        0.522321       0.000000  0.529790   0.496296  0.406826   0.493590   \n",
       "\n",
       "      Night Mins  Night Calls  Intl Mins  Intl Calls  CustServ Calls  \n",
       "1464    0.583501     0.491935      0.450        0.25        0.333333  \n",
       "277     0.537223     0.588710      0.325        0.10        0.222222  \n",
       "1180    0.438632     0.733871      0.655        0.20        0.000000  \n",
       "308     0.433937     0.596774      0.570        0.10        0.000000  \n",
       "1067    0.601610     0.516129      0.610        0.30        0.111111  "
      ]
     },
     "execution_count": 10,
     "metadata": {},
     "output_type": "execute_result"
    }
   ],
   "source": [
    "# And have a look at the normalized data.\n",
    "x_train[['Account Length', 'VMail Message', \n",
    "         'Day Mins', 'Day Calls', \n",
    "         'Eve Mins', 'Eve Calls', \n",
    "         'Night Mins', 'Night Calls', \n",
    "         'Intl Mins', 'Intl Calls',\n",
    "         'CustServ Calls']].head()"
   ]
  },
  {
   "cell_type": "markdown",
   "metadata": {},
   "source": [
    "#### 5. Encode categorical data in both training and testing set.\n",
    "After normalizing numeric data, then encoding categorical data.\n",
    "<br>\n",
    "There are two kinds of categorical features in this dataset:\n",
    "<br>\n",
    "&emsp;&emsp;Nominal features, which is encoded by either One-Hot encoder or Label Encoder here.\n",
    "<br>\n",
    "&emsp;&emsp;Binary features, which is encoded by converting 't'/'f' string to int 0/1.\n",
    "<br>\n",
    "The reason that I do not use Ordinal Encoder is these are Nominal features without order or sequence."
   ]
  },
  {
   "cell_type": "markdown",
   "metadata": {},
   "source": [
    ">Below is an example of using the One-Hot encoder to encode the 'State' feature. \n",
    "<br>\n",
    "**Note:** There will be a warning pop-up, but it does not matter here, since the 'State' feature will be dropped later."
   ]
  },
  {
   "cell_type": "code",
   "execution_count": 11,
   "metadata": {},
   "outputs": [
    {
     "name": "stderr",
     "output_type": "stream",
     "text": [
      "/Users/liubohan/opt/anaconda3/lib/python3.8/site-packages/category_encoders/utils.py:21: FutureWarning: is_categorical is deprecated and will be removed in a future version.  Use is_categorical_dtype instead\n",
      "  elif pd.api.types.is_categorical(cols):\n"
     ]
    },
    {
     "data": {
      "text/html": [
       "<div>\n",
       "<style scoped>\n",
       "    .dataframe tbody tr th:only-of-type {\n",
       "        vertical-align: middle;\n",
       "    }\n",
       "\n",
       "    .dataframe tbody tr th {\n",
       "        vertical-align: top;\n",
       "    }\n",
       "\n",
       "    .dataframe thead th {\n",
       "        text-align: right;\n",
       "    }\n",
       "</style>\n",
       "<table border=\"1\" class=\"dataframe\">\n",
       "  <thead>\n",
       "    <tr style=\"text-align: right;\">\n",
       "      <th></th>\n",
       "      <th>State_1</th>\n",
       "      <th>State_2</th>\n",
       "      <th>State_3</th>\n",
       "      <th>State_4</th>\n",
       "      <th>State_5</th>\n",
       "      <th>State_6</th>\n",
       "      <th>State_7</th>\n",
       "      <th>State_8</th>\n",
       "      <th>State_9</th>\n",
       "      <th>State_10</th>\n",
       "      <th>...</th>\n",
       "      <th>State_42</th>\n",
       "      <th>State_43</th>\n",
       "      <th>State_44</th>\n",
       "      <th>State_45</th>\n",
       "      <th>State_46</th>\n",
       "      <th>State_47</th>\n",
       "      <th>State_48</th>\n",
       "      <th>State_49</th>\n",
       "      <th>State_50</th>\n",
       "      <th>State_51</th>\n",
       "    </tr>\n",
       "  </thead>\n",
       "  <tbody>\n",
       "    <tr>\n",
       "      <th>1464</th>\n",
       "      <td>1</td>\n",
       "      <td>0</td>\n",
       "      <td>0</td>\n",
       "      <td>0</td>\n",
       "      <td>0</td>\n",
       "      <td>0</td>\n",
       "      <td>0</td>\n",
       "      <td>0</td>\n",
       "      <td>0</td>\n",
       "      <td>0</td>\n",
       "      <td>...</td>\n",
       "      <td>0</td>\n",
       "      <td>0</td>\n",
       "      <td>0</td>\n",
       "      <td>0</td>\n",
       "      <td>0</td>\n",
       "      <td>0</td>\n",
       "      <td>0</td>\n",
       "      <td>0</td>\n",
       "      <td>0</td>\n",
       "      <td>0</td>\n",
       "    </tr>\n",
       "    <tr>\n",
       "      <th>277</th>\n",
       "      <td>0</td>\n",
       "      <td>1</td>\n",
       "      <td>0</td>\n",
       "      <td>0</td>\n",
       "      <td>0</td>\n",
       "      <td>0</td>\n",
       "      <td>0</td>\n",
       "      <td>0</td>\n",
       "      <td>0</td>\n",
       "      <td>0</td>\n",
       "      <td>...</td>\n",
       "      <td>0</td>\n",
       "      <td>0</td>\n",
       "      <td>0</td>\n",
       "      <td>0</td>\n",
       "      <td>0</td>\n",
       "      <td>0</td>\n",
       "      <td>0</td>\n",
       "      <td>0</td>\n",
       "      <td>0</td>\n",
       "      <td>0</td>\n",
       "    </tr>\n",
       "    <tr>\n",
       "      <th>1180</th>\n",
       "      <td>0</td>\n",
       "      <td>0</td>\n",
       "      <td>1</td>\n",
       "      <td>0</td>\n",
       "      <td>0</td>\n",
       "      <td>0</td>\n",
       "      <td>0</td>\n",
       "      <td>0</td>\n",
       "      <td>0</td>\n",
       "      <td>0</td>\n",
       "      <td>...</td>\n",
       "      <td>0</td>\n",
       "      <td>0</td>\n",
       "      <td>0</td>\n",
       "      <td>0</td>\n",
       "      <td>0</td>\n",
       "      <td>0</td>\n",
       "      <td>0</td>\n",
       "      <td>0</td>\n",
       "      <td>0</td>\n",
       "      <td>0</td>\n",
       "    </tr>\n",
       "  </tbody>\n",
       "</table>\n",
       "<p>3 rows × 51 columns</p>\n",
       "</div>"
      ],
      "text/plain": [
       "      State_1  State_2  State_3  State_4  State_5  State_6  State_7  State_8  \\\n",
       "1464        1        0        0        0        0        0        0        0   \n",
       "277         0        1        0        0        0        0        0        0   \n",
       "1180        0        0        1        0        0        0        0        0   \n",
       "\n",
       "      State_9  State_10  ...  State_42  State_43  State_44  State_45  \\\n",
       "1464        0         0  ...         0         0         0         0   \n",
       "277         0         0  ...         0         0         0         0   \n",
       "1180        0         0  ...         0         0         0         0   \n",
       "\n",
       "      State_46  State_47  State_48  State_49  State_50  State_51  \n",
       "1464         0         0         0         0         0         0  \n",
       "277          0         0         0         0         0         0  \n",
       "1180         0         0         0         0         0         0  \n",
       "\n",
       "[3 rows x 51 columns]"
      ]
     },
     "execution_count": 11,
     "metadata": {},
     "output_type": "execute_result"
    }
   ],
   "source": [
    "import category_encoders as ce\n",
    "\n",
    "X = x_train['State']\n",
    "\n",
    "ce_one_hot = ce.OneHotEncoder(cols=['State'])\n",
    "ce_one_hot.fit_transform(X).head(3)"
   ]
  },
  {
   "cell_type": "markdown",
   "metadata": {},
   "source": [
    ">Below is an example of using the Label Encoder to encode the 'Area Code' feature. \n",
    "<br>\n",
    "However, it is better to use the One-Hot encoder here. \n",
    "<br>\n",
    "Label Encoder is better used when dealing with ordinal data. \n",
    "<br>\n",
    "(If we dealing with area code with sequential order, then Label Encoder could be a better choice.)\n",
    "<br>\n",
    "**Note:** this is just an example of using Label Encoder, the 'Area Code' feature will also be dropped later."
   ]
  },
  {
   "cell_type": "code",
   "execution_count": 12,
   "metadata": {},
   "outputs": [],
   "source": [
    "from sklearn.preprocessing import LabelEncoder\n",
    "\n",
    "X = x_train['Area Code']\n",
    "\n",
    "# Dealing with Nominal features.\n",
    "# Using Label Encoder converting the same strings to a same integer.\n",
    "le = LabelEncoder()\n",
    "le.fit(X)\n",
    "label = le.transform(X)\n",
    "X = label"
   ]
  },
  {
   "cell_type": "code",
   "execution_count": 13,
   "metadata": {},
   "outputs": [
    {
     "data": {
      "text/html": [
       "<div>\n",
       "<style scoped>\n",
       "    .dataframe tbody tr th:only-of-type {\n",
       "        vertical-align: middle;\n",
       "    }\n",
       "\n",
       "    .dataframe tbody tr th {\n",
       "        vertical-align: top;\n",
       "    }\n",
       "\n",
       "    .dataframe thead th {\n",
       "        text-align: right;\n",
       "    }\n",
       "</style>\n",
       "<table border=\"1\" class=\"dataframe\">\n",
       "  <thead>\n",
       "    <tr style=\"text-align: right;\">\n",
       "      <th></th>\n",
       "      <th>Area Code</th>\n",
       "    </tr>\n",
       "  </thead>\n",
       "  <tbody>\n",
       "    <tr>\n",
       "      <th>0</th>\n",
       "      <td>1</td>\n",
       "    </tr>\n",
       "    <tr>\n",
       "      <th>1</th>\n",
       "      <td>0</td>\n",
       "    </tr>\n",
       "    <tr>\n",
       "      <th>2</th>\n",
       "      <td>1</td>\n",
       "    </tr>\n",
       "  </tbody>\n",
       "</table>\n",
       "</div>"
      ],
      "text/plain": [
       "   Area Code\n",
       "0          1\n",
       "1          0\n",
       "2          1"
      ]
     },
     "execution_count": 13,
     "metadata": {},
     "output_type": "execute_result"
    }
   ],
   "source": [
    "# Have a look at the encoded 'Area Code' feature.\n",
    "X_df = pd.DataFrame(X, columns=['Area Code'])\n",
    "X_df.head(3)"
   ]
  },
  {
   "cell_type": "markdown",
   "metadata": {},
   "source": [
    ">The rest of the dataset are all Ture/False data, binary type of data. \n",
    "<br>\n",
    "('Phone' feature is ignored. Although it can be processed by One-Hot, it will generate a large table with no repetition, and it is useless for predicting 'Churn?'.)\n",
    "<br>\n",
    "Below is the process of converting True/False to 1/0."
   ]
  },
  {
   "cell_type": "code",
   "execution_count": 14,
   "metadata": {},
   "outputs": [
    {
     "name": "stderr",
     "output_type": "stream",
     "text": [
      "/Users/liubohan/opt/anaconda3/lib/python3.8/site-packages/pandas/core/indexing.py:670: SettingWithCopyWarning: \n",
      "A value is trying to be set on a copy of a slice from a DataFrame\n",
      "\n",
      "See the caveats in the documentation: https://pandas.pydata.org/pandas-docs/stable/user_guide/indexing.html#returning-a-view-versus-a-copy\n",
      "  iloc._setitem_with_indexer(indexer, value)\n"
     ]
    }
   ],
   "source": [
    "# Dealing with Binary features.\n",
    "# For each Binary feature:\n",
    "#     if its value is 'True' or 'yes', convert the value to int 1.\n",
    "#     if its value is 'False' or 'no', convert the value to int 0.\n",
    "\n",
    "# Process Binary features in train set.\n",
    "for i in x_train[['Int\\'l Plan', 'VMail Plan']]:\n",
    "    for j in range(len(x_train)):\n",
    "        if x_train[i].iloc[j] == 'True.' or x_train[i].iloc[j] == 'yes':\n",
    "            x_train[i].iloc[j] = 1\n",
    "        elif x_train[i].iloc[j] == 'False.' or x_train[i].iloc[j] == 'no':\n",
    "            x_train[i].iloc[j] = 0\n",
    "\n",
    "# Also process Binary features in test set.\n",
    "# Since the program does not recognize string'True/False' and 'yes/no'.\n",
    "for i in x_test[['Int\\'l Plan', 'VMail Plan']]:\n",
    "    for j in range(len(x_test)):\n",
    "        if x_test[i].iloc[j] == 'True.' or x_test[i].iloc[j] == 'yes':\n",
    "            x_test[i].iloc[j] = 1\n",
    "        elif x_test[i].iloc[j] == 'False.' or x_test[i].iloc[j] == 'no':\n",
    "            x_test[i].iloc[j] = 0\n",
    "\n",
    "# Do the same Binary procedure for Dependent Variable y (Train set).\n",
    "for i in range(len(y_train)):\n",
    "    if y_train.iloc[i] == 'True.' or y_train.iloc[i] == 'yes':\n",
    "        y_train.iloc[i] = 1\n",
    "    elif y_train.iloc[i] == 'False.' or y_train.iloc[i] == 'no':\n",
    "        y_train.iloc[i] = 0    \n",
    "# Do the same Binary procedure for Dependent Variable y (Test set).\n",
    "for i in range(len(y_test)):\n",
    "    if y_test.iloc[i] == 'True.' or y_test.iloc[i] == 'yes':\n",
    "        y_test.iloc[i] = 1\n",
    "    elif y_test.iloc[i] == 'False.' or y_test.iloc[i] == 'no':\n",
    "        y_test.iloc[i] = 0"
   ]
  },
  {
   "cell_type": "markdown",
   "metadata": {},
   "source": [
    "#### View the processed data below"
   ]
  },
  {
   "cell_type": "code",
   "execution_count": 15,
   "metadata": {},
   "outputs": [
    {
     "data": {
      "text/html": [
       "<div>\n",
       "<style scoped>\n",
       "    .dataframe tbody tr th:only-of-type {\n",
       "        vertical-align: middle;\n",
       "    }\n",
       "\n",
       "    .dataframe tbody tr th {\n",
       "        vertical-align: top;\n",
       "    }\n",
       "\n",
       "    .dataframe thead th {\n",
       "        text-align: right;\n",
       "    }\n",
       "</style>\n",
       "<table border=\"1\" class=\"dataframe\">\n",
       "  <thead>\n",
       "    <tr style=\"text-align: right;\">\n",
       "      <th></th>\n",
       "      <th>Int'l Plan</th>\n",
       "      <th>VMail Plan</th>\n",
       "    </tr>\n",
       "  </thead>\n",
       "  <tbody>\n",
       "    <tr>\n",
       "      <th>1464</th>\n",
       "      <td>0</td>\n",
       "      <td>0</td>\n",
       "    </tr>\n",
       "    <tr>\n",
       "      <th>277</th>\n",
       "      <td>0</td>\n",
       "      <td>1</td>\n",
       "    </tr>\n",
       "  </tbody>\n",
       "</table>\n",
       "</div>"
      ],
      "text/plain": [
       "     Int'l Plan VMail Plan\n",
       "1464          0          0\n",
       "277           0          1"
      ]
     },
     "execution_count": 15,
     "metadata": {},
     "output_type": "execute_result"
    }
   ],
   "source": [
    "# Have a look at the encoded data.\n",
    "x_train[['Int\\'l Plan', 'VMail Plan']].head(2)"
   ]
  },
  {
   "cell_type": "code",
   "execution_count": 16,
   "metadata": {},
   "outputs": [
    {
     "data": {
      "text/html": [
       "<div>\n",
       "<style scoped>\n",
       "    .dataframe tbody tr th:only-of-type {\n",
       "        vertical-align: middle;\n",
       "    }\n",
       "\n",
       "    .dataframe tbody tr th {\n",
       "        vertical-align: top;\n",
       "    }\n",
       "\n",
       "    .dataframe thead th {\n",
       "        text-align: right;\n",
       "    }\n",
       "</style>\n",
       "<table border=\"1\" class=\"dataframe\">\n",
       "  <thead>\n",
       "    <tr style=\"text-align: right;\">\n",
       "      <th></th>\n",
       "      <th>Int'l Plan</th>\n",
       "      <th>VMail Plan</th>\n",
       "    </tr>\n",
       "  </thead>\n",
       "  <tbody>\n",
       "    <tr>\n",
       "      <th>1699</th>\n",
       "      <td>0</td>\n",
       "      <td>0</td>\n",
       "    </tr>\n",
       "    <tr>\n",
       "      <th>2972</th>\n",
       "      <td>0</td>\n",
       "      <td>1</td>\n",
       "    </tr>\n",
       "  </tbody>\n",
       "</table>\n",
       "</div>"
      ],
      "text/plain": [
       "     Int'l Plan VMail Plan\n",
       "1699          0          0\n",
       "2972          0          1"
      ]
     },
     "execution_count": 16,
     "metadata": {},
     "output_type": "execute_result"
    }
   ],
   "source": [
    "# Have a look at the encoded data.\n",
    "x_test[['Int\\'l Plan', 'VMail Plan']].head(2)"
   ]
  },
  {
   "cell_type": "code",
   "execution_count": 17,
   "metadata": {},
   "outputs": [
    {
     "data": {
      "text/plain": [
       "1464    0\n",
       "277     1\n",
       "Name: Churn?, dtype: object"
      ]
     },
     "execution_count": 17,
     "metadata": {},
     "output_type": "execute_result"
    }
   ],
   "source": [
    "# Have a look at the encoded data.\n",
    "y_train.head(2)"
   ]
  },
  {
   "cell_type": "code",
   "execution_count": 18,
   "metadata": {},
   "outputs": [
    {
     "data": {
      "text/plain": [
       "1699    0\n",
       "2972    1\n",
       "Name: Churn?, dtype: object"
      ]
     },
     "execution_count": 18,
     "metadata": {},
     "output_type": "execute_result"
    }
   ],
   "source": [
    "# Have a look at the encoded data.\n",
    "y_test.head(2)"
   ]
  },
  {
   "cell_type": "markdown",
   "metadata": {},
   "source": [
    "---"
   ]
  },
  {
   "cell_type": "markdown",
   "metadata": {},
   "source": [
    "### Build the Feed-Forward-Multilayer Perceptron\n",
    "Aim to perform binary classification to classify 'Churn' based on other variables"
   ]
  },
  {
   "cell_type": "markdown",
   "metadata": {},
   "source": [
    "Clear up the portion of the dataset.\n",
    "<br>\n",
    "Features may useful to put into the Artificial Neural Network:\n",
    "<br>\n",
    "'Account Length', 'VMail Message', 'Day Mins', 'Day Calls', 'Eve Mins', 'Eve Calls', 'Night Mins', 'Night Calls', 'Intl Mins', 'Intl Calls', 'CustServ Calls'"
   ]
  },
  {
   "cell_type": "code",
   "execution_count": 19,
   "metadata": {},
   "outputs": [],
   "source": [
    "x_train = x_train[['Account Length',\n",
    "                   'VMail Message', \n",
    "                   'Day Mins', 'Day Calls', \n",
    "                   'Eve Mins', 'Eve Calls', \n",
    "                   'Night Mins', 'Night Calls', \n",
    "                   'Intl Mins', 'Intl Calls',\n",
    "                   'CustServ Calls']]\n",
    "\n",
    "x_test = x_test[['Account Length',\n",
    "                 'VMail Message', \n",
    "                 'Day Mins', 'Day Calls', \n",
    "                 'Eve Mins', 'Eve Calls', \n",
    "                 'Night Mins', 'Night Calls', \n",
    "                 'Intl Mins', 'Intl Calls',\n",
    "                 'CustServ Calls']]"
   ]
  },
  {
   "cell_type": "markdown",
   "metadata": {},
   "source": [
    "Look over the information of each feature."
   ]
  },
  {
   "cell_type": "code",
   "execution_count": 20,
   "metadata": {},
   "outputs": [
    {
     "name": "stdout",
     "output_type": "stream",
     "text": [
      "<class 'pandas.core.frame.DataFrame'>\n",
      "Int64Index: 2216 entries, 1464 to 1891\n",
      "Data columns (total 11 columns):\n",
      " #   Column          Non-Null Count  Dtype  \n",
      "---  ------          --------------  -----  \n",
      " 0   Account Length  2216 non-null   float64\n",
      " 1   VMail Message   2216 non-null   float64\n",
      " 2   Day Mins        2216 non-null   float64\n",
      " 3   Day Calls       2216 non-null   float64\n",
      " 4   Eve Mins        2216 non-null   float64\n",
      " 5   Eve Calls       2216 non-null   float64\n",
      " 6   Night Mins      2216 non-null   float64\n",
      " 7   Night Calls     2216 non-null   float64\n",
      " 8   Intl Mins       2216 non-null   float64\n",
      " 9   Intl Calls      2216 non-null   float64\n",
      " 10  CustServ Calls  2216 non-null   float64\n",
      "dtypes: float64(11)\n",
      "memory usage: 207.8 KB\n"
     ]
    }
   ],
   "source": [
    "x_train.info()"
   ]
  },
  {
   "cell_type": "code",
   "execution_count": 21,
   "metadata": {},
   "outputs": [
    {
     "name": "stdout",
     "output_type": "stream",
     "text": [
      "<class 'pandas.core.frame.DataFrame'>\n",
      "Int64Index: 951 entries, 1699 to 2235\n",
      "Data columns (total 11 columns):\n",
      " #   Column          Non-Null Count  Dtype  \n",
      "---  ------          --------------  -----  \n",
      " 0   Account Length  951 non-null    int64  \n",
      " 1   VMail Message   951 non-null    int64  \n",
      " 2   Day Mins        951 non-null    float64\n",
      " 3   Day Calls       951 non-null    int64  \n",
      " 4   Eve Mins        951 non-null    float64\n",
      " 5   Eve Calls       951 non-null    int64  \n",
      " 6   Night Mins      951 non-null    float64\n",
      " 7   Night Calls     951 non-null    int64  \n",
      " 8   Intl Mins       951 non-null    float64\n",
      " 9   Intl Calls      951 non-null    int64  \n",
      " 10  CustServ Calls  951 non-null    int64  \n",
      "dtypes: float64(4), int64(7)\n",
      "memory usage: 89.2 KB\n"
     ]
    }
   ],
   "source": [
    "x_test.info()"
   ]
  },
  {
   "cell_type": "markdown",
   "metadata": {},
   "source": [
    "Using tensorflow.keras to form a Sequential ANN.\n",
    "<br>\n",
    "There are four layers in this ANN: input layer + 2 hidden layers + output layer.\n",
    "<br>\n",
    "&emsp;&emsp;For the input layers, there should be 11 nodes, since there are 11 input features.\n",
    "<br>\n",
    "&emsp;&emsp;For the two hidden layers, there are 4 nodes in each layer. Too many nodes will increase the training time.\n",
    "<br>\n",
    "&emsp;&emsp;For the output layer, there is only 1 node, since there is only one feature 'Churn?' to output.\n",
    "<br>\n",
    "All layers using sigmoid function (1/(1+e^(-x))) as activation function."
   ]
  },
  {
   "cell_type": "code",
   "execution_count": 22,
   "metadata": {},
   "outputs": [],
   "source": [
    "import tensorflow as tf\n",
    "from tensorflow import keras\n",
    "from tensorflow.keras import layers\n",
    "\n",
    "model = keras.Sequential()\n",
    "model.add(layers.Dense(4, input_dim=x_train.shape[1], activation='sigmoid'))\n",
    "model.add(layers.Dense(4,  activation='sigmoid'))\n",
    "model.add(layers.Dense(1,  activation='sigmoid'))"
   ]
  },
  {
   "cell_type": "code",
   "execution_count": 23,
   "metadata": {},
   "outputs": [],
   "source": [
    "model.compile(loss='mse', optimizer='adam', \n",
    "              metrics=['accuracy', \n",
    "                       keras.metrics.Precision(name=\"precision\", thresholds=0.5),\n",
    "                       keras.metrics.Recall(name=\"recall\", thresholds=0.5)\n",
    "                      ])"
   ]
  },
  {
   "cell_type": "markdown",
   "metadata": {},
   "source": [
    "---"
   ]
  },
  {
   "cell_type": "markdown",
   "metadata": {},
   "source": [
    "### Train the FFNN model with Back-Propagation\n",
    "Train the FNN model using training set with Back-Propagation to find the best weight parameter.\n",
    "<br>\n",
    "Show how the weight parameters of the last layer change during Back-Propagation in the graph below.\n",
    "<br>\n",
    "**Note:** The graph indicates the connection's weight value from the second hidden layer (4 nodes) to the output layer (1 node), so there are 4 connections respective to the graph.\n",
    ">Back-propagation is an efficient technique for evaluating the gradient of an error function for a FFNN.\n",
    "<br>\n",
    "This technique is achieved through a message-passing scheme in which information is sent alternately forwards and backwards through the network."
   ]
  },
  {
   "cell_type": "code",
   "execution_count": 24,
   "metadata": {},
   "outputs": [],
   "source": [
    "class FitCallback(keras.callbacks.Callback):\n",
    "    def on_train_batch_end(self, batch, logs=None):\n",
    "        weights.append(self.model.layers[1].get_weights())\n",
    "        \n",
    "weights = []"
   ]
  },
  {
   "cell_type": "code",
   "execution_count": 25,
   "metadata": {
    "scrolled": true
   },
   "outputs": [
    {
     "data": {
      "text/plain": [
       "<AxesSubplot:>"
      ]
     },
     "execution_count": 25,
     "metadata": {},
     "output_type": "execute_result"
    },
    {
     "data": {
      "image/png": "[encoded data removed]",
      "text/plain": [
       "<Figure size 432x288 with 1 Axes>"
      ]
     },
     "metadata": {
      "needs_background": "light"
     },
     "output_type": "display_data"
    }
   ],
   "source": [
    "x_array = np.asarray(x_train)\n",
    "y_array = np.asarray(y_train).astype('float64')\n",
    "\n",
    "result = model.fit(x_array, y_array, epochs=200, batch_size=32, verbose=0, callbacks=[FitCallback()])\n",
    "\n",
    "pd.DataFrame([x[-1] for x in weights]).plot()"
   ]
  },
  {
   "cell_type": "markdown",
   "metadata": {},
   "source": [
    "---"
   ]
  },
  {
   "cell_type": "markdown",
   "metadata": {},
   "source": [
    "### Test and Evaluation of the model"
   ]
  },
  {
   "cell_type": "markdown",
   "metadata": {},
   "source": [
    "Below reports loss, accuracy, precision and recall score for the test set"
   ]
  },
  {
   "cell_type": "code",
   "execution_count": 26,
   "metadata": {},
   "outputs": [
    {
     "name": "stdout",
     "output_type": "stream",
     "text": [
      "30/30 [==============================] - 0s 892us/step - loss: 0.3870 - accuracy: 0.1420 - precision: 0.1420 - recall: 1.0000\n",
      " \n",
      "Loss: 0.3870352804660797\n",
      "Accuracy: 0.14195583760738373\n",
      "Precision: 0.14195583760738373\n",
      "Recall: 1.0\n"
     ]
    }
   ],
   "source": [
    "x_array = np.asarray(x_test)\n",
    "y_array = np.asarray(y_test).astype('float64')\n",
    "\n",
    "score = model.evaluate(x_array, y_array)\n",
    "\n",
    "print(\" \")\n",
    "print(\"Loss:\", score[0])\n",
    "print(\"Accuracy:\", score[1])\n",
    "print(\"Precision:\", score[2])\n",
    "print(\"Recall:\", score[3])"
   ]
  },
  {
   "cell_type": "markdown",
   "metadata": {},
   "source": [
    "---"
   ]
  },
  {
   "cell_type": "markdown",
   "metadata": {},
   "source": [
    "### Train and Test the model with the whole data"
   ]
  },
  {
   "cell_type": "code",
   "execution_count": 27,
   "metadata": {},
   "outputs": [],
   "source": [
    "import tensorflow as tf\n",
    "from tensorflow import keras\n",
    "from tensorflow.keras import layers\n",
    "\n",
    "model = keras.Sequential()\n",
    "model.add(layers.Dense(4, input_dim=x_train.shape[1], activation='sigmoid'))\n",
    "model.add(layers.Dense(4,  activation='sigmoid'))\n",
    "model.add(layers.Dense(1,  activation='sigmoid'))"
   ]
  },
  {
   "cell_type": "code",
   "execution_count": 28,
   "metadata": {},
   "outputs": [
    {
     "name": "stderr",
     "output_type": "stream",
     "text": [
      "/Users/liubohan/opt/anaconda3/lib/python3.8/site-packages/pandas/core/indexing.py:670: SettingWithCopyWarning: \n",
      "A value is trying to be set on a copy of a slice from a DataFrame\n",
      "\n",
      "See the caveats in the documentation: https://pandas.pydata.org/pandas-docs/stable/user_guide/indexing.html#returning-a-view-versus-a-copy\n",
      "  iloc._setitem_with_indexer(indexer, value)\n"
     ]
    }
   ],
   "source": [
    "X = df_clean[['Account Length',\n",
    "              'VMail Message', \n",
    "              'Day Mins', 'Day Calls', \n",
    "              'Eve Mins', 'Eve Calls', \n",
    "              'Night Mins', 'Night Calls', \n",
    "              'Intl Mins', 'Intl Calls',\n",
    "              'CustServ Calls']]\n",
    "\n",
    "scaler = MinMaxScaler()\n",
    "scaled_values = scaler.fit_transform(X)\n",
    "X = scaled_values\n",
    "\n",
    "\n",
    "Y = df_clean['Churn?']\n",
    "\n",
    "for i in range(len(Y)):\n",
    "    if Y.iloc[i] == 'True.' or Y.iloc[i] == 'yes':\n",
    "        Y.iloc[i] = 1\n",
    "    elif Y.iloc[i] == 'False.' or Y.iloc[i] == 'no':\n",
    "        Y.iloc[i] = 0"
   ]
  },
  {
   "cell_type": "code",
   "execution_count": 29,
   "metadata": {},
   "outputs": [],
   "source": [
    "model.compile(loss='mse', optimizer='adam', \n",
    "              metrics=['accuracy', \n",
    "                       keras.metrics.Precision(name=\"precision\", thresholds=0.5),\n",
    "                       keras.metrics.Recall(name=\"recall\", thresholds=0.5)])"
   ]
  },
  {
   "cell_type": "code",
   "execution_count": 30,
   "metadata": {},
   "outputs": [],
   "source": [
    "class FitCallback(keras.callbacks.Callback):\n",
    "    def on_train_batch_end(self, batch, logs=None):\n",
    "        weights.append(self.model.layers[1].get_weights())"
   ]
  },
  {
   "cell_type": "code",
   "execution_count": 31,
   "metadata": {},
   "outputs": [],
   "source": [
    "weights = []"
   ]
  },
  {
   "cell_type": "code",
   "execution_count": 32,
   "metadata": {},
   "outputs": [
    {
     "data": {
      "text/plain": [
       "<AxesSubplot:>"
      ]
     },
     "execution_count": 32,
     "metadata": {},
     "output_type": "execute_result"
    },
    {
     "data": {
      "image/png": "[encoded data removed]",
      "text/plain": [
       "<Figure size 432x288 with 1 Axes>"
      ]
     },
     "metadata": {
      "needs_background": "light"
     },
     "output_type": "display_data"
    }
   ],
   "source": [
    "x_array = np.asarray(X)\n",
    "y_array = np.asarray(Y).astype('float64')\n",
    "\n",
    "result = model.fit(x_array, y_array, epochs=150, batch_size=64, verbose=0, callbacks=[FitCallback()])\n",
    "\n",
    "pd.DataFrame([x[-1] for x in weights]).plot()"
   ]
  },
  {
   "cell_type": "code",
   "execution_count": 33,
   "metadata": {},
   "outputs": [
    {
     "name": "stdout",
     "output_type": "stream",
     "text": [
      "99/99 [==============================] - 0s 737us/step - loss: 0.1074 - accuracy: 0.8626 - precision: 0.0000e+00 - recall: 0.0000e+00\n"
     ]
    },
    {
     "data": {
      "text/plain": [
       "[0.10735641419887543, 0.8626460433006287, 0.0, 0.0]"
      ]
     },
     "execution_count": 33,
     "metadata": {},
     "output_type": "execute_result"
    }
   ],
   "source": [
    "model.evaluate(x_array, y_array)"
   ]
  }
 ],
 "metadata": {
  "kernelspec": {
   "display_name": "Python 3",
   "language": "python",
   "name": "python3"
  },
  "language_info": {
   "codemirror_mode": {
    "name": "ipython",
    "version": 3
   },
   "file_extension": ".py",
   "mimetype": "text/x-python",
   "name": "python",
   "nbconvert_exporter": "python",
   "pygments_lexer": "ipython3",
   "version": "3.8.5"
  }
 },
 "nbformat": 4,
 "nbformat_minor": 4
}
